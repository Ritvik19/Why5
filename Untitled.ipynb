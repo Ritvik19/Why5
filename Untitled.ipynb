{
 "cells": [
  {
   "cell_type": "markdown",
   "metadata": {},
   "source": [
    "# Imports"
   ]
  },
  {
   "cell_type": "code",
   "execution_count": 1,
   "metadata": {
    "ExecuteTime": {
     "end_time": "2019-04-16T12:46:40.012816Z",
     "start_time": "2019-04-16T12:46:39.321650Z"
    },
    "collapsed": true
   },
   "outputs": [],
   "source": [
    "import numpy as np\n",
    "import pandas as pd"
   ]
  },
  {
   "cell_type": "code",
   "execution_count": null,
   "metadata": {
    "collapsed": true
   },
   "outputs": [],
   "source": []
  },
  {
   "cell_type": "code",
   "execution_count": null,
   "metadata": {
    "collapsed": true
   },
   "outputs": [],
   "source": []
  },
  {
   "cell_type": "code",
   "execution_count": 2,
   "metadata": {
    "ExecuteTime": {
     "end_time": "2019-04-16T12:46:40.027762Z",
     "start_time": "2019-04-16T12:46:40.014797Z"
    },
    "collapsed": true
   },
   "outputs": [],
   "source": [
    "pd.options.display.max_columns = 10"
   ]
  },
  {
   "cell_type": "markdown",
   "metadata": {},
   "source": [
    "# Data and EDA"
   ]
  },
  {
   "cell_type": "code",
   "execution_count": 3,
   "metadata": {
    "ExecuteTime": {
     "end_time": "2019-04-16T12:46:40.325049Z",
     "start_time": "2019-04-16T12:46:40.032750Z"
    },
    "collapsed": true
   },
   "outputs": [],
   "source": [
    "data = pd.read_csv('PoemsData.csv')"
   ]
  },
  {
   "cell_type": "code",
   "execution_count": 4,
   "metadata": {
    "ExecuteTime": {
     "end_time": "2019-04-16T12:46:40.569213Z",
     "start_time": "2019-04-16T12:46:40.329001Z"
    }
   },
   "outputs": [
    {
     "data": {
      "text/html": [
       "<div>\n",
       "<style scoped>\n",
       "    .dataframe tbody tr th:only-of-type {\n",
       "        vertical-align: middle;\n",
       "    }\n",
       "\n",
       "    .dataframe tbody tr th {\n",
       "        vertical-align: top;\n",
       "    }\n",
       "\n",
       "    .dataframe thead th {\n",
       "        text-align: right;\n",
       "    }\n",
       "</style>\n",
       "<table border=\"1\" class=\"dataframe\">\n",
       "  <thead>\n",
       "    <tr style=\"text-align: right;\">\n",
       "      <th></th>\n",
       "      <th>activities</th>\n",
       "      <th>art_and_sciences</th>\n",
       "      <th>living</th>\n",
       "      <th>love</th>\n",
       "      <th>mythology_and_folklore</th>\n",
       "      <th>nature</th>\n",
       "      <th>poem</th>\n",
       "      <th>relationships</th>\n",
       "      <th>religion</th>\n",
       "      <th>social_commentaries</th>\n",
       "    </tr>\n",
       "  </thead>\n",
       "  <tbody>\n",
       "    <tr>\n",
       "      <th>0</th>\n",
       "      <td>1.0</td>\n",
       "      <td>0.0</td>\n",
       "      <td>0.0</td>\n",
       "      <td>1.0</td>\n",
       "      <td>0.0</td>\n",
       "      <td>0.0</td>\n",
       "      <td>15 Years of Paris\\r\\nBy Katy Bohinc\\r\\nBy Katy...</td>\n",
       "      <td>0.0</td>\n",
       "      <td>0.0</td>\n",
       "      <td>0.0</td>\n",
       "    </tr>\n",
       "    <tr>\n",
       "      <th>1</th>\n",
       "      <td>0.0</td>\n",
       "      <td>0.0</td>\n",
       "      <td>0.0</td>\n",
       "      <td>1.0</td>\n",
       "      <td>0.0</td>\n",
       "      <td>0.0</td>\n",
       "      <td>[lady in red] \"at 4:30 AM\"\\r\\nBy Ntozake Shang...</td>\n",
       "      <td>0.0</td>\n",
       "      <td>0.0</td>\n",
       "      <td>1.0</td>\n",
       "    </tr>\n",
       "    <tr>\n",
       "      <th>2</th>\n",
       "      <td>0.0</td>\n",
       "      <td>1.0</td>\n",
       "      <td>1.0</td>\n",
       "      <td>1.0</td>\n",
       "      <td>0.0</td>\n",
       "      <td>1.0</td>\n",
       "      <td>geography test\\r\\nBy Saaro Umar\\r\\nBy Saaro Um...</td>\n",
       "      <td>1.0</td>\n",
       "      <td>0.0</td>\n",
       "      <td>1.0</td>\n",
       "    </tr>\n",
       "    <tr>\n",
       "      <th>3</th>\n",
       "      <td>1.0</td>\n",
       "      <td>1.0</td>\n",
       "      <td>0.0</td>\n",
       "      <td>1.0</td>\n",
       "      <td>0.0</td>\n",
       "      <td>1.0</td>\n",
       "      <td>From “Celestial House”\\r\\nBy Victoria Martinez...</td>\n",
       "      <td>1.0</td>\n",
       "      <td>0.0</td>\n",
       "      <td>1.0</td>\n",
       "    </tr>\n",
       "    <tr>\n",
       "      <th>4</th>\n",
       "      <td>0.0</td>\n",
       "      <td>0.0</td>\n",
       "      <td>1.0</td>\n",
       "      <td>1.0</td>\n",
       "      <td>0.0</td>\n",
       "      <td>0.0</td>\n",
       "      <td>Ode to Black Skin\\r\\nBy Ashanti Anderson\\r\\nBy...</td>\n",
       "      <td>0.0</td>\n",
       "      <td>1.0</td>\n",
       "      <td>1.0</td>\n",
       "    </tr>\n",
       "  </tbody>\n",
       "</table>\n",
       "</div>"
      ],
      "text/plain": [
       "   activities  art_and_sciences  living  love  mythology_and_folklore  nature  \\\n",
       "0         1.0               0.0     0.0   1.0                     0.0     0.0   \n",
       "1         0.0               0.0     0.0   1.0                     0.0     0.0   \n",
       "2         0.0               1.0     1.0   1.0                     0.0     1.0   \n",
       "3         1.0               1.0     0.0   1.0                     0.0     1.0   \n",
       "4         0.0               0.0     1.0   1.0                     0.0     0.0   \n",
       "\n",
       "                                                poem  relationships  religion  \\\n",
       "0  15 Years of Paris\\r\\nBy Katy Bohinc\\r\\nBy Katy...            0.0       0.0   \n",
       "1  [lady in red] \"at 4:30 AM\"\\r\\nBy Ntozake Shang...            0.0       0.0   \n",
       "2  geography test\\r\\nBy Saaro Umar\\r\\nBy Saaro Um...            1.0       0.0   \n",
       "3  From “Celestial House”\\r\\nBy Victoria Martinez...            1.0       0.0   \n",
       "4  Ode to Black Skin\\r\\nBy Ashanti Anderson\\r\\nBy...            0.0       1.0   \n",
       "\n",
       "   social_commentaries  \n",
       "0                  0.0  \n",
       "1                  1.0  \n",
       "2                  1.0  \n",
       "3                  1.0  \n",
       "4                  1.0  "
      ]
     },
     "execution_count": 4,
     "metadata": {},
     "output_type": "execute_result"
    }
   ],
   "source": [
    "data.head()"
   ]
  },
  {
   "cell_type": "code",
   "execution_count": 13,
   "metadata": {
    "ExecuteTime": {
     "end_time": "2019-04-16T12:52:04.292869Z",
     "start_time": "2019-04-16T12:52:04.286880Z"
    }
   },
   "outputs": [
    {
     "name": "stdout",
     "output_type": "stream",
     "text": [
      "Dataset Shape (455, 10)\n"
     ]
    }
   ],
   "source": [
    "print('Dataset Shape', data.shape)"
   ]
  },
  {
   "cell_type": "code",
   "execution_count": 15,
   "metadata": {
    "ExecuteTime": {
     "end_time": "2019-04-16T12:52:25.655795Z",
     "start_time": "2019-04-16T12:52:25.647818Z"
    }
   },
   "outputs": [
    {
     "name": "stdout",
     "output_type": "stream",
     "text": [
      "Target Classes:\n",
      " ['activities', 'art_and_sciences', 'living', 'love', 'mythology_and_folklore', 'nature', 'relationships', 'religion', 'social_commentaries']\n"
     ]
    }
   ],
   "source": [
    "y_cols = data.columns.tolist()\n",
    "y_cols.remove('poem')\n",
    "print('Target Classes:\\n', y_cols)"
   ]
  },
  {
   "cell_type": "code",
   "execution_count": 18,
   "metadata": {
    "ExecuteTime": {
     "end_time": "2019-04-16T12:55:28.432454Z",
     "start_time": "2019-04-16T12:55:28.426473Z"
    },
    "collapsed": true
   },
   "outputs": [],
   "source": [
    "def insight(y):\n",
    "    print('There are {} ({} %) poems classified as {}'.format(data[y].sum(), data[y].sum()/4.55, y))"
   ]
  },
  {
   "cell_type": "code",
   "execution_count": 21,
   "metadata": {
    "ExecuteTime": {
     "end_time": "2019-04-16T12:56:18.769750Z",
     "start_time": "2019-04-16T12:56:18.753793Z"
    }
   },
   "outputs": [
    {
     "name": "stdout",
     "output_type": "stream",
     "text": [
      "Insights:\n",
      "There are 100.0 (21.978021978021978 %) poems classified as activities\n",
      "There are 100.0 (21.978021978021978 %) poems classified as art_and_sciences\n",
      "There are 100.0 (21.978021978021978 %) poems classified as living\n",
      "There are 100.0 (21.978021978021978 %) poems classified as love\n",
      "There are 100.0 (21.978021978021978 %) poems classified as mythology_and_folklore\n",
      "There are 100.0 (21.978021978021978 %) poems classified as nature\n",
      "There are 102.0 (22.41758241758242 %) poems classified as relationships\n",
      "There are 100.0 (21.978021978021978 %) poems classified as religion\n",
      "There are 100.0 (21.978021978021978 %) poems classified as social_commentaries\n"
     ]
    }
   ],
   "source": [
    "print('Insights:')\n",
    "for y in y_cols:\n",
    "    insight(y)"
   ]
  },
  {
   "cell_type": "markdown",
   "metadata": {
    "ExecuteTime": {
     "end_time": "2019-04-16T12:56:38.874950Z",
     "start_time": "2019-04-16T12:56:38.869966Z"
    }
   },
   "source": [
    "# Data Preprocessing"
   ]
  },
  {
   "cell_type": "markdown",
   "metadata": {
    "ExecuteTime": {
     "end_time": "2019-04-16T12:56:54.873402Z",
     "start_time": "2019-04-16T12:56:54.869412Z"
    }
   },
   "source": [
    "## Cleaning"
   ]
  },
  {
   "cell_type": "code",
   "execution_count": 28,
   "metadata": {
    "ExecuteTime": {
     "end_time": "2019-04-16T13:03:40.143227Z",
     "start_time": "2019-04-16T13:03:40.023962Z"
    },
    "collapsed": true
   },
   "outputs": [],
   "source": [
    "import nltk, re\n",
    "from nltk.stem.porter import PorterStemmer\n",
    "from nltk.stem import WordNetLemmatizer\n",
    "\n",
    "remove_punc = lambda x : re.sub(r\"\\W\", ' ', x)\n",
    "\n",
    "remove_num = lambda x : re.sub(r\"\\d\", ' ', x)\n",
    "\n",
    "remove_extra_spaces = lambda x : re.sub(r\"\\s+\", ' ', x)\n",
    "\n",
    "lower_case = lambda x : x.lower()\n",
    "\n",
    "stop_words = set(nltk.corpus.stopwords.words('english'))\n",
    "remove_stopwords = lambda x: ' '.join(word for word in x.split() if word not in stop_words)\n",
    "\n",
    "ps = PorterStemmer()\n",
    "ps_stem = lambda x: ' '.join(ps.stem(word) for word in x.split())\n",
    "\n",
    "wnl = WordNetLemmatizer()\n",
    "wnl_lemmatize = lambda x: ' '.join(wnl.lemmatize(word) for word in x.split())\n",
    "\n",
    "def tag_pos(x):\n",
    "    tag_list =  nltk.pos_tag(nltk.word_tokenize(x))\n",
    "    pos = \"\"\n",
    "    for t in tag_list:\n",
    "        pos += t[0] +'(' + t[1] +')' + ' '\n",
    "    return pos\n",
    "\n",
    "def cleanText(x, rsw, stm, lem, tgps):\n",
    "    x = remove_punc(x)\n",
    "    x = remove_num(x)\n",
    "    x = remove_extra_spaces(x)\n",
    "    x = lower_case(x)\n",
    "    if rsw:\n",
    "        x = remove_stopwords(x)\n",
    "    if stm:\n",
    "        x = ps_stem(x)\n",
    "    if lem:\n",
    "        x = wnl_lemmatize(x)\n",
    "    if tgps:\n",
    "        x = tag_pos(x)\n",
    "    return x"
   ]
  },
  {
   "cell_type": "code",
   "execution_count": 29,
   "metadata": {
    "ExecuteTime": {
     "end_time": "2019-04-16T13:03:42.947428Z",
     "start_time": "2019-04-16T13:03:40.911203Z"
    },
    "collapsed": true
   },
   "outputs": [],
   "source": [
    "data['poem'] = data['poem'].apply(lambda x: cleanText(x, True, False, True, False))"
   ]
  },
  {
   "cell_type": "markdown",
   "metadata": {
    "ExecuteTime": {
     "end_time": "2019-04-16T13:03:43.276461Z",
     "start_time": "2019-04-16T13:03:43.260506Z"
    }
   },
   "source": [
    "## TFIDF Vectorizing"
   ]
  },
  {
   "cell_type": "code",
   "execution_count": 31,
   "metadata": {
    "ExecuteTime": {
     "end_time": "2019-04-16T13:04:31.335379Z",
     "start_time": "2019-04-16T13:04:31.330391Z"
    },
    "collapsed": true
   },
   "outputs": [],
   "source": [
    "from sklearn.feature_extraction.text import TfidfVectorizer"
   ]
  },
  {
   "cell_type": "code",
   "execution_count": 35,
   "metadata": {
    "ExecuteTime": {
     "end_time": "2019-04-16T13:06:16.776260Z",
     "start_time": "2019-04-16T13:06:16.069455Z"
    }
   },
   "outputs": [
    {
     "name": "stderr",
     "output_type": "stream",
     "text": [
      "D:\\Users\\Ritvik\\Anaconda3\\envs\\tfdeeplearning\\lib\\site-packages\\sklearn\\feature_extraction\\text.py:1089: FutureWarning: Conversion of the second argument of issubdtype from `float` to `np.floating` is deprecated. In future, it will be treated as `np.float64 == np.dtype(float).type`.\n",
      "  if hasattr(X, 'dtype') and np.issubdtype(X.dtype, np.float):\n"
     ]
    }
   ],
   "source": [
    "vectorizer = TfidfVectorizer()\n",
    "vectorizer.fit(data['poem'])\n",
    "poem_Vect = vectorizer.transform(data['poem'])"
   ]
  },
  {
   "cell_type": "markdown",
   "metadata": {},
   "source": [
    "# Machine Learning"
   ]
  },
  {
   "cell_type": "code",
   "execution_count": 36,
   "metadata": {
    "ExecuteTime": {
     "end_time": "2019-04-16T13:07:15.858656Z",
     "start_time": "2019-04-16T13:07:15.852673Z"
    },
    "collapsed": true
   },
   "outputs": [],
   "source": [
    "from sklearn.model_selection import cross_val_score"
   ]
  },
  {
   "cell_type": "markdown",
   "metadata": {},
   "source": [
    "## Logistic Regression"
   ]
  },
  {
   "cell_type": "code",
   "execution_count": 37,
   "metadata": {
    "ExecuteTime": {
     "end_time": "2019-04-16T13:07:46.785947Z",
     "start_time": "2019-04-16T13:07:46.780960Z"
    },
    "collapsed": true
   },
   "outputs": [],
   "source": [
    "from sklearn.linear_model import LogisticRegression"
   ]
  },
  {
   "cell_type": "code",
   "execution_count": 40,
   "metadata": {
    "ExecuteTime": {
     "end_time": "2019-04-16T13:08:55.297598Z",
     "start_time": "2019-04-16T13:08:53.165380Z"
    }
   },
   "outputs": [
    {
     "name": "stdout",
     "output_type": "stream",
     "text": [
      "activities\n",
      "Accuracy: 0.78 (+/- 0.00)\n",
      "\n",
      "art_and_sciences\n",
      "Accuracy: 0.78 (+/- 0.00)\n",
      "\n",
      "living\n",
      "Accuracy: 0.78 (+/- 0.00)\n",
      "\n",
      "love\n",
      "Accuracy: 0.78 (+/- 0.00)\n",
      "\n",
      "mythology_and_folklore\n",
      "Accuracy: 0.78 (+/- 0.00)\n",
      "\n",
      "nature\n",
      "Accuracy: 0.78 (+/- 0.00)\n",
      "\n",
      "relationships\n",
      "Accuracy: 0.78 (+/- 0.01)\n",
      "\n",
      "religion\n",
      "Accuracy: 0.78 (+/- 0.00)\n",
      "\n",
      "social_commentaries\n",
      "Accuracy: 0.78 (+/- 0.00)\n",
      "\n"
     ]
    }
   ],
   "source": [
    "for y in y_cols:\n",
    "    print(y)\n",
    "    model = LogisticRegression()\n",
    "    scores = cross_val_score(model, poem_Vect, data[y], cv=10)\n",
    "    print('Accuracy: %0.2f (+/- %0.2f)' %(scores.mean(), scores.std()))\n",
    "    print()"
   ]
  },
  {
   "cell_type": "markdown",
   "metadata": {},
   "source": [
    "## Multinomial Naive Bayes"
   ]
  },
  {
   "cell_type": "code",
   "execution_count": 41,
   "metadata": {
    "ExecuteTime": {
     "end_time": "2019-04-16T13:52:20.928971Z",
     "start_time": "2019-04-16T13:52:20.911726Z"
    },
    "collapsed": true
   },
   "outputs": [],
   "source": [
    "from sklearn.naive_bayes import MultinomialNB"
   ]
  },
  {
   "cell_type": "code",
   "execution_count": 45,
   "metadata": {
    "ExecuteTime": {
     "end_time": "2019-04-16T14:12:25.652360Z",
     "start_time": "2019-04-16T14:12:24.989088Z"
    }
   },
   "outputs": [
    {
     "name": "stdout",
     "output_type": "stream",
     "text": [
      "activities\n",
      "Accuracy: 0.78 (+/- 0.00)\n",
      "\n",
      "art_and_sciences\n",
      "Accuracy: 0.78 (+/- 0.00)\n",
      "\n",
      "living\n",
      "Accuracy: 0.78 (+/- 0.00)\n",
      "\n",
      "love\n",
      "Accuracy: 0.78 (+/- 0.00)\n",
      "\n",
      "mythology_and_folklore\n",
      "Accuracy: 0.78 (+/- 0.00)\n",
      "\n",
      "nature\n",
      "Accuracy: 0.78 (+/- 0.00)\n",
      "\n",
      "relationships\n",
      "Accuracy: 0.78 (+/- 0.01)\n",
      "\n",
      "religion\n",
      "Accuracy: 0.78 (+/- 0.00)\n",
      "\n",
      "social_commentaries\n",
      "Accuracy: 0.78 (+/- 0.00)\n",
      "\n"
     ]
    }
   ],
   "source": [
    "for y in y_cols:\n",
    "    print(y)\n",
    "    model = MultinomialNB()\n",
    "    scores = cross_val_score(model, poem_Vect, data[y], cv=10)\n",
    "    print('Accuracy: %0.2f (+/- %0.2f)' %(scores.mean(), scores.std()))\n",
    "    print()"
   ]
  },
  {
   "cell_type": "markdown",
   "metadata": {},
   "source": [
    "## Random Forest Classifier"
   ]
  },
  {
   "cell_type": "code",
   "execution_count": 46,
   "metadata": {
    "ExecuteTime": {
     "end_time": "2019-04-16T14:13:00.742795Z",
     "start_time": "2019-04-16T14:13:00.736856Z"
    },
    "collapsed": true
   },
   "outputs": [],
   "source": [
    "from sklearn.ensemble import RandomForestClassifier"
   ]
  },
  {
   "cell_type": "code",
   "execution_count": 47,
   "metadata": {
    "ExecuteTime": {
     "end_time": "2019-04-16T14:13:30.362537Z",
     "start_time": "2019-04-16T14:13:20.096131Z"
    }
   },
   "outputs": [
    {
     "name": "stdout",
     "output_type": "stream",
     "text": [
      "activities\n",
      "Accuracy: 0.77 (+/- 0.02)\n",
      "\n",
      "art_and_sciences\n",
      "Accuracy: 0.77 (+/- 0.01)\n",
      "\n",
      "living\n",
      "Accuracy: 0.79 (+/- 0.01)\n",
      "\n",
      "love\n",
      "Accuracy: 0.79 (+/- 0.03)\n",
      "\n",
      "mythology_and_folklore\n",
      "Accuracy: 0.78 (+/- 0.01)\n",
      "\n",
      "nature\n",
      "Accuracy: 0.78 (+/- 0.02)\n",
      "\n",
      "relationships\n",
      "Accuracy: 0.78 (+/- 0.01)\n",
      "\n",
      "religion\n",
      "Accuracy: 0.78 (+/- 0.01)\n",
      "\n",
      "social_commentaries\n",
      "Accuracy: 0.78 (+/- 0.01)\n",
      "\n"
     ]
    }
   ],
   "source": [
    "for y in y_cols:\n",
    "    print(y)\n",
    "    model = RandomForestClassifier()\n",
    "    scores = cross_val_score(model, poem_Vect, data[y], cv=10)\n",
    "    print('Accuracy: %0.2f (+/- %0.2f)' %(scores.mean(), scores.std()))\n",
    "    print()"
   ]
  },
  {
   "cell_type": "markdown",
   "metadata": {},
   "source": [
    "## SGD Classifier"
   ]
  },
  {
   "cell_type": "code",
   "execution_count": 48,
   "metadata": {
    "ExecuteTime": {
     "end_time": "2019-04-16T14:14:10.022592Z",
     "start_time": "2019-04-16T14:14:10.017605Z"
    },
    "collapsed": true
   },
   "outputs": [],
   "source": [
    "from sklearn.linear_model import SGDClassifier"
   ]
  },
  {
   "cell_type": "code",
   "execution_count": 49,
   "metadata": {
    "ExecuteTime": {
     "end_time": "2019-04-16T14:14:24.778366Z",
     "start_time": "2019-04-16T14:14:23.708429Z"
    }
   },
   "outputs": [
    {
     "name": "stdout",
     "output_type": "stream",
     "text": [
      "activities\n"
     ]
    },
    {
     "name": "stderr",
     "output_type": "stream",
     "text": [
      "D:\\Users\\Ritvik\\Anaconda3\\envs\\tfdeeplearning\\lib\\site-packages\\sklearn\\linear_model\\stochastic_gradient.py:84: FutureWarning: max_iter and tol parameters have been added in <class 'sklearn.linear_model.stochastic_gradient.SGDClassifier'> in 0.19. If both are left unset, they default to max_iter=5 and tol=None. If tol is not None, max_iter defaults to max_iter=1000. From 0.21, default max_iter will be 1000, and default tol will be 1e-3.\n",
      "  \"and default tol will be 1e-3.\" % type(self), FutureWarning)\n",
      "D:\\Users\\Ritvik\\Anaconda3\\envs\\tfdeeplearning\\lib\\site-packages\\sklearn\\linear_model\\stochastic_gradient.py:84: FutureWarning: max_iter and tol parameters have been added in <class 'sklearn.linear_model.stochastic_gradient.SGDClassifier'> in 0.19. If both are left unset, they default to max_iter=5 and tol=None. If tol is not None, max_iter defaults to max_iter=1000. From 0.21, default max_iter will be 1000, and default tol will be 1e-3.\n",
      "  \"and default tol will be 1e-3.\" % type(self), FutureWarning)\n"
     ]
    },
    {
     "name": "stdout",
     "output_type": "stream",
     "text": [
      "Accuracy: 0.77 (+/- 0.03)\n",
      "\n",
      "art_and_sciences\n",
      "Accuracy: 0.77 (+/- 0.01)\n",
      "\n",
      "living\n",
      "Accuracy: 0.80 (+/- 0.02)\n",
      "\n",
      "love\n"
     ]
    },
    {
     "name": "stderr",
     "output_type": "stream",
     "text": [
      "D:\\Users\\Ritvik\\Anaconda3\\envs\\tfdeeplearning\\lib\\site-packages\\sklearn\\linear_model\\stochastic_gradient.py:84: FutureWarning: max_iter and tol parameters have been added in <class 'sklearn.linear_model.stochastic_gradient.SGDClassifier'> in 0.19. If both are left unset, they default to max_iter=5 and tol=None. If tol is not None, max_iter defaults to max_iter=1000. From 0.21, default max_iter will be 1000, and default tol will be 1e-3.\n",
      "  \"and default tol will be 1e-3.\" % type(self), FutureWarning)\n",
      "D:\\Users\\Ritvik\\Anaconda3\\envs\\tfdeeplearning\\lib\\site-packages\\sklearn\\linear_model\\stochastic_gradient.py:84: FutureWarning: max_iter and tol parameters have been added in <class 'sklearn.linear_model.stochastic_gradient.SGDClassifier'> in 0.19. If both are left unset, they default to max_iter=5 and tol=None. If tol is not None, max_iter defaults to max_iter=1000. From 0.21, default max_iter will be 1000, and default tol will be 1e-3.\n",
      "  \"and default tol will be 1e-3.\" % type(self), FutureWarning)\n",
      "D:\\Users\\Ritvik\\Anaconda3\\envs\\tfdeeplearning\\lib\\site-packages\\sklearn\\linear_model\\stochastic_gradient.py:84: FutureWarning: max_iter and tol parameters have been added in <class 'sklearn.linear_model.stochastic_gradient.SGDClassifier'> in 0.19. If both are left unset, they default to max_iter=5 and tol=None. If tol is not None, max_iter defaults to max_iter=1000. From 0.21, default max_iter will be 1000, and default tol will be 1e-3.\n",
      "  \"and default tol will be 1e-3.\" % type(self), FutureWarning)\n"
     ]
    },
    {
     "name": "stdout",
     "output_type": "stream",
     "text": [
      "Accuracy: 0.79 (+/- 0.04)\n",
      "\n",
      "mythology_and_folklore\n",
      "Accuracy: 0.78 (+/- 0.03)\n",
      "\n",
      "nature\n",
      "Accuracy: 0.78 (+/- 0.04)\n",
      "\n",
      "relationships\n"
     ]
    },
    {
     "name": "stderr",
     "output_type": "stream",
     "text": [
      "D:\\Users\\Ritvik\\Anaconda3\\envs\\tfdeeplearning\\lib\\site-packages\\sklearn\\linear_model\\stochastic_gradient.py:84: FutureWarning: max_iter and tol parameters have been added in <class 'sklearn.linear_model.stochastic_gradient.SGDClassifier'> in 0.19. If both are left unset, they default to max_iter=5 and tol=None. If tol is not None, max_iter defaults to max_iter=1000. From 0.21, default max_iter will be 1000, and default tol will be 1e-3.\n",
      "  \"and default tol will be 1e-3.\" % type(self), FutureWarning)\n",
      "D:\\Users\\Ritvik\\Anaconda3\\envs\\tfdeeplearning\\lib\\site-packages\\sklearn\\linear_model\\stochastic_gradient.py:84: FutureWarning: max_iter and tol parameters have been added in <class 'sklearn.linear_model.stochastic_gradient.SGDClassifier'> in 0.19. If both are left unset, they default to max_iter=5 and tol=None. If tol is not None, max_iter defaults to max_iter=1000. From 0.21, default max_iter will be 1000, and default tol will be 1e-3.\n",
      "  \"and default tol will be 1e-3.\" % type(self), FutureWarning)\n",
      "D:\\Users\\Ritvik\\Anaconda3\\envs\\tfdeeplearning\\lib\\site-packages\\sklearn\\linear_model\\stochastic_gradient.py:84: FutureWarning: max_iter and tol parameters have been added in <class 'sklearn.linear_model.stochastic_gradient.SGDClassifier'> in 0.19. If both are left unset, they default to max_iter=5 and tol=None. If tol is not None, max_iter defaults to max_iter=1000. From 0.21, default max_iter will be 1000, and default tol will be 1e-3.\n",
      "  \"and default tol will be 1e-3.\" % type(self), FutureWarning)\n"
     ]
    },
    {
     "name": "stdout",
     "output_type": "stream",
     "text": [
      "Accuracy: 0.78 (+/- 0.03)\n",
      "\n",
      "religion\n",
      "Accuracy: 0.79 (+/- 0.03)\n",
      "\n",
      "social_commentaries\n",
      "Accuracy: 0.78 (+/- 0.03)\n",
      "\n"
     ]
    },
    {
     "name": "stderr",
     "output_type": "stream",
     "text": [
      "D:\\Users\\Ritvik\\Anaconda3\\envs\\tfdeeplearning\\lib\\site-packages\\sklearn\\linear_model\\stochastic_gradient.py:84: FutureWarning: max_iter and tol parameters have been added in <class 'sklearn.linear_model.stochastic_gradient.SGDClassifier'> in 0.19. If both are left unset, they default to max_iter=5 and tol=None. If tol is not None, max_iter defaults to max_iter=1000. From 0.21, default max_iter will be 1000, and default tol will be 1e-3.\n",
      "  \"and default tol will be 1e-3.\" % type(self), FutureWarning)\n"
     ]
    }
   ],
   "source": [
    "for y in y_cols:\n",
    "    print(y)\n",
    "    model = SGDClassifier()\n",
    "    scores = cross_val_score(model, poem_Vect, data[y], cv=10)\n",
    "    print('Accuracy: %0.2f (+/- %0.2f)' %(scores.mean(), scores.std()))\n",
    "    print()"
   ]
  },
  {
   "cell_type": "code",
   "execution_count": null,
   "metadata": {
    "collapsed": true
   },
   "outputs": [],
   "source": []
  }
 ],
 "metadata": {
  "kernelspec": {
   "display_name": "Python 3",
   "language": "python",
   "name": "python3"
  },
  "language_info": {
   "codemirror_mode": {
    "name": "ipython",
    "version": 3
   },
   "file_extension": ".py",
   "mimetype": "text/x-python",
   "name": "python",
   "nbconvert_exporter": "python",
   "pygments_lexer": "ipython3",
   "version": "3.5.4"
  },
  "toc": {
   "base_numbering": 1,
   "nav_menu": {},
   "number_sections": true,
   "sideBar": true,
   "skip_h1_title": false,
   "title_cell": "Table of Contents",
   "title_sidebar": "Contents",
   "toc_cell": false,
   "toc_position": {},
   "toc_section_display": true,
   "toc_window_display": false
  },
  "varInspector": {
   "cols": {
    "lenName": 16,
    "lenType": 16,
    "lenVar": 40
   },
   "kernels_config": {
    "python": {
     "delete_cmd_postfix": "",
     "delete_cmd_prefix": "del ",
     "library": "var_list.py",
     "varRefreshCmd": "print(var_dic_list())"
    },
    "r": {
     "delete_cmd_postfix": ") ",
     "delete_cmd_prefix": "rm(",
     "library": "var_list.r",
     "varRefreshCmd": "cat(var_dic_list()) "
    }
   },
   "types_to_exclude": [
    "module",
    "function",
    "builtin_function_or_method",
    "instance",
    "_Feature"
   ],
   "window_display": false
  }
 },
 "nbformat": 4,
 "nbformat_minor": 2
}
