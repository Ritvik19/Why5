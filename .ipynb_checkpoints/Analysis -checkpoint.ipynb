{
 "cells": [
  {
   "cell_type": "markdown",
   "metadata": {},
   "source": [
    "# Imports"
   ]
  },
  {
   "cell_type": "code",
   "execution_count": 1,
   "metadata": {
    "ExecuteTime": {
     "end_time": "2019-04-19T09:34:22.062223Z",
     "start_time": "2019-04-19T09:34:17.656124Z"
    }
   },
   "outputs": [],
   "source": [
    "import numpy as np\n",
    "import pandas as pd"
   ]
  },
  {
   "cell_type": "code",
   "execution_count": null,
   "metadata": {},
   "outputs": [],
   "source": []
  },
  {
   "cell_type": "code",
   "execution_count": 2,
   "metadata": {
    "ExecuteTime": {
     "end_time": "2019-04-19T09:34:24.265921Z",
     "start_time": "2019-04-19T09:34:22.065311Z"
    }
   },
   "outputs": [],
   "source": [
    "import matplotlib.pyplot as plt\n",
    "import seaborn as sns"
   ]
  },
  {
   "cell_type": "code",
   "execution_count": 3,
   "metadata": {
    "ExecuteTime": {
     "end_time": "2019-04-19T09:34:24.281377Z",
     "start_time": "2019-04-19T09:34:24.270876Z"
    }
   },
   "outputs": [],
   "source": [
    "pd.options.display.max_columns = 10"
   ]
  },
  {
   "cell_type": "markdown",
   "metadata": {},
   "source": [
    "# Data and EDA"
   ]
  },
  {
   "cell_type": "code",
   "execution_count": 4,
   "metadata": {
    "ExecuteTime": {
     "end_time": "2019-04-19T09:34:24.514562Z",
     "start_time": "2019-04-19T09:34:24.286364Z"
    }
   },
   "outputs": [],
   "source": [
    "data = pd.read_csv('PoemsData.csv')"
   ]
  },
  {
   "cell_type": "code",
   "execution_count": 5,
   "metadata": {
    "ExecuteTime": {
     "end_time": "2019-04-19T09:34:24.648211Z",
     "start_time": "2019-04-19T09:34:24.518439Z"
    }
   },
   "outputs": [
    {
     "data": {
      "text/html": [
       "<div>\n",
       "<style scoped>\n",
       "    .dataframe tbody tr th:only-of-type {\n",
       "        vertical-align: middle;\n",
       "    }\n",
       "\n",
       "    .dataframe tbody tr th {\n",
       "        vertical-align: top;\n",
       "    }\n",
       "\n",
       "    .dataframe thead th {\n",
       "        text-align: right;\n",
       "    }\n",
       "</style>\n",
       "<table border=\"1\" class=\"dataframe\">\n",
       "  <thead>\n",
       "    <tr style=\"text-align: right;\">\n",
       "      <th></th>\n",
       "      <th>activities</th>\n",
       "      <th>art_and_sciences</th>\n",
       "      <th>living</th>\n",
       "      <th>love</th>\n",
       "      <th>mythology_and_folklore</th>\n",
       "      <th>nature</th>\n",
       "      <th>poem</th>\n",
       "      <th>relationships</th>\n",
       "      <th>religion</th>\n",
       "      <th>social_commentaries</th>\n",
       "    </tr>\n",
       "  </thead>\n",
       "  <tbody>\n",
       "    <tr>\n",
       "      <th>0</th>\n",
       "      <td>1.0</td>\n",
       "      <td>0.0</td>\n",
       "      <td>0.0</td>\n",
       "      <td>1.0</td>\n",
       "      <td>0.0</td>\n",
       "      <td>0.0</td>\n",
       "      <td>15 Years of Paris\\r\\nBy Katy Bohinc\\r\\nBy Katy...</td>\n",
       "      <td>0.0</td>\n",
       "      <td>0.0</td>\n",
       "      <td>0.0</td>\n",
       "    </tr>\n",
       "    <tr>\n",
       "      <th>1</th>\n",
       "      <td>0.0</td>\n",
       "      <td>0.0</td>\n",
       "      <td>0.0</td>\n",
       "      <td>1.0</td>\n",
       "      <td>0.0</td>\n",
       "      <td>0.0</td>\n",
       "      <td>[lady in red] \"at 4:30 AM\"\\r\\nBy Ntozake Shang...</td>\n",
       "      <td>0.0</td>\n",
       "      <td>0.0</td>\n",
       "      <td>1.0</td>\n",
       "    </tr>\n",
       "    <tr>\n",
       "      <th>2</th>\n",
       "      <td>0.0</td>\n",
       "      <td>1.0</td>\n",
       "      <td>1.0</td>\n",
       "      <td>1.0</td>\n",
       "      <td>0.0</td>\n",
       "      <td>1.0</td>\n",
       "      <td>geography test\\r\\nBy Saaro Umar\\r\\nBy Saaro Um...</td>\n",
       "      <td>1.0</td>\n",
       "      <td>0.0</td>\n",
       "      <td>1.0</td>\n",
       "    </tr>\n",
       "    <tr>\n",
       "      <th>3</th>\n",
       "      <td>1.0</td>\n",
       "      <td>1.0</td>\n",
       "      <td>0.0</td>\n",
       "      <td>1.0</td>\n",
       "      <td>0.0</td>\n",
       "      <td>1.0</td>\n",
       "      <td>From “Celestial House”\\r\\nBy Victoria Martinez...</td>\n",
       "      <td>1.0</td>\n",
       "      <td>0.0</td>\n",
       "      <td>1.0</td>\n",
       "    </tr>\n",
       "    <tr>\n",
       "      <th>4</th>\n",
       "      <td>0.0</td>\n",
       "      <td>0.0</td>\n",
       "      <td>1.0</td>\n",
       "      <td>1.0</td>\n",
       "      <td>0.0</td>\n",
       "      <td>0.0</td>\n",
       "      <td>Ode to Black Skin\\r\\nBy Ashanti Anderson\\r\\nBy...</td>\n",
       "      <td>0.0</td>\n",
       "      <td>1.0</td>\n",
       "      <td>1.0</td>\n",
       "    </tr>\n",
       "  </tbody>\n",
       "</table>\n",
       "</div>"
      ],
      "text/plain": [
       "   activities  art_and_sciences  living  love  mythology_and_folklore  nature  \\\n",
       "0         1.0               0.0     0.0   1.0                     0.0     0.0   \n",
       "1         0.0               0.0     0.0   1.0                     0.0     0.0   \n",
       "2         0.0               1.0     1.0   1.0                     0.0     1.0   \n",
       "3         1.0               1.0     0.0   1.0                     0.0     1.0   \n",
       "4         0.0               0.0     1.0   1.0                     0.0     0.0   \n",
       "\n",
       "                                                poem  relationships  religion  \\\n",
       "0  15 Years of Paris\\r\\nBy Katy Bohinc\\r\\nBy Katy...            0.0       0.0   \n",
       "1  [lady in red] \"at 4:30 AM\"\\r\\nBy Ntozake Shang...            0.0       0.0   \n",
       "2  geography test\\r\\nBy Saaro Umar\\r\\nBy Saaro Um...            1.0       0.0   \n",
       "3  From “Celestial House”\\r\\nBy Victoria Martinez...            1.0       0.0   \n",
       "4  Ode to Black Skin\\r\\nBy Ashanti Anderson\\r\\nBy...            0.0       1.0   \n",
       "\n",
       "   social_commentaries  \n",
       "0                  0.0  \n",
       "1                  1.0  \n",
       "2                  1.0  \n",
       "3                  1.0  \n",
       "4                  1.0  "
      ]
     },
     "execution_count": 5,
     "metadata": {},
     "output_type": "execute_result"
    }
   ],
   "source": [
    "data.head()"
   ]
  },
  {
   "cell_type": "code",
   "execution_count": 6,
   "metadata": {
    "ExecuteTime": {
     "end_time": "2019-04-19T09:34:24.792153Z",
     "start_time": "2019-04-19T09:34:24.651230Z"
    }
   },
   "outputs": [
    {
     "name": "stdout",
     "output_type": "stream",
     "text": [
      "Dataset Shape (455, 10)\n"
     ]
    }
   ],
   "source": [
    "print('Dataset Shape', data.shape)"
   ]
  },
  {
   "cell_type": "code",
   "execution_count": 7,
   "metadata": {
    "ExecuteTime": {
     "end_time": "2019-04-19T09:34:24.946235Z",
     "start_time": "2019-04-19T09:34:24.795140Z"
    }
   },
   "outputs": [
    {
     "name": "stdout",
     "output_type": "stream",
     "text": [
      "Target Classes:\n",
      " ['activities', 'art_and_sciences', 'living', 'love', 'mythology_and_folklore', 'nature', 'relationships', 'religion', 'social_commentaries']\n"
     ]
    }
   ],
   "source": [
    "y_cols = data.columns.tolist()\n",
    "y_cols.remove('poem')\n",
    "print('Target Classes:\\n', y_cols)"
   ]
  },
  {
   "cell_type": "code",
   "execution_count": 8,
   "metadata": {
    "ExecuteTime": {
     "end_time": "2019-04-19T09:34:25.104162Z",
     "start_time": "2019-04-19T09:34:24.959180Z"
    }
   },
   "outputs": [],
   "source": [
    "def insight(y):\n",
    "    print('There are {} ({:.2f} %) poems classified as {}'.format(data[y].sum(), data[y].sum()/4.55, y))"
   ]
  },
  {
   "cell_type": "code",
   "execution_count": 9,
   "metadata": {
    "ExecuteTime": {
     "end_time": "2019-04-19T09:34:25.271178Z",
     "start_time": "2019-04-19T09:34:25.111670Z"
    }
   },
   "outputs": [
    {
     "name": "stdout",
     "output_type": "stream",
     "text": [
      "Insights:\n",
      "There are 100.0 (21.98 %) poems classified as activities\n",
      "There are 100.0 (21.98 %) poems classified as art_and_sciences\n",
      "There are 100.0 (21.98 %) poems classified as living\n",
      "There are 100.0 (21.98 %) poems classified as love\n",
      "There are 100.0 (21.98 %) poems classified as mythology_and_folklore\n",
      "There are 100.0 (21.98 %) poems classified as nature\n",
      "There are 102.0 (22.42 %) poems classified as relationships\n",
      "There are 100.0 (21.98 %) poems classified as religion\n",
      "There are 100.0 (21.98 %) poems classified as social_commentaries\n"
     ]
    }
   ],
   "source": [
    "print('Insights:')\n",
    "for y in y_cols:\n",
    "    insight(y)"
   ]
  },
  {
   "cell_type": "code",
   "execution_count": 33,
   "metadata": {
    "ExecuteTime": {
     "end_time": "2019-04-19T09:35:31.175601Z",
     "start_time": "2019-04-19T09:35:31.126332Z"
    }
   },
   "outputs": [],
   "source": [
    "lengths = pd.Series(data['poem'].apply(lambda x: len(x.split())))"
   ]
  },
  {
   "cell_type": "code",
   "execution_count": 36,
   "metadata": {
    "ExecuteTime": {
     "end_time": "2019-04-19T09:36:01.165884Z",
     "start_time": "2019-04-19T09:36:00.293276Z"
    }
   },
   "outputs": [
    {
     "data": {
      "image/png": "[encoded data removed]",
      "text/plain": [
       "<Figure size 1296x432 with 1 Axes>"
      ]
     },
     "metadata": {
      "needs_background": "light"
     },
     "output_type": "display_data"
    }
   ],
   "source": [
    "fig = plt.figure(figsize=(18,6))\n",
    "lengths.plot.hist(bins=200)\n",
    "plt.show()"
   ]
  },
  {
   "cell_type": "markdown",
   "metadata": {
    "ExecuteTime": {
     "end_time": "2019-04-16T12:56:38.874950Z",
     "start_time": "2019-04-16T12:56:38.869966Z"
    }
   },
   "source": [
    "# Data Preprocessing"
   ]
  },
  {
   "cell_type": "markdown",
   "metadata": {
    "ExecuteTime": {
     "end_time": "2019-04-16T12:56:54.873402Z",
     "start_time": "2019-04-16T12:56:54.869412Z"
    }
   },
   "source": [
    "## Cleaning"
   ]
  },
  {
   "cell_type": "code",
   "execution_count": 12,
   "metadata": {
    "ExecuteTime": {
     "end_time": "2019-04-19T09:34:26.936204Z",
     "start_time": "2019-04-19T09:34:26.159856Z"
    }
   },
   "outputs": [],
   "source": [
    "import nltk, re\n",
    "from nltk.stem.porter import PorterStemmer\n",
    "from nltk.stem import WordNetLemmatizer\n",
    "\n",
    "remove_punc = lambda x : re.sub(r\"\\W\", ' ', x)\n",
    "\n",
    "remove_num = lambda x : re.sub(r\"\\d\", ' ', x)\n",
    "\n",
    "remove_extra_spaces = lambda x : re.sub(r\"\\s+\", ' ', x)\n",
    "\n",
    "lower_case = lambda x : x.lower()\n",
    "\n",
    "stop_words = set(nltk.corpus.stopwords.words('english'))\n",
    "remove_stopwords = lambda x: ' '.join(word for word in x.split() if word not in stop_words)\n",
    "\n",
    "ps = PorterStemmer()\n",
    "ps_stem = lambda x: ' '.join(ps.stem(word) for word in x.split())\n",
    "\n",
    "wnl = WordNetLemmatizer()\n",
    "wnl_lemmatize = lambda x: ' '.join(wnl.lemmatize(word) for word in x.split())\n",
    "\n",
    "def tag_pos(x):\n",
    "    tag_list =  nltk.pos_tag(nltk.word_tokenize(x))\n",
    "    pos = \"\"\n",
    "    for t in tag_list:\n",
    "        pos += t[0] +'(' + t[1] +')' + ' '\n",
    "    return pos\n",
    "\n",
    "def cleanText(x, rsw, stm, lem, tgps):\n",
    "    x = remove_punc(x)\n",
    "    x = remove_num(x)\n",
    "    x = remove_extra_spaces(x)\n",
    "    x = lower_case(x)\n",
    "    if rsw:\n",
    "        x = remove_stopwords(x)\n",
    "    if stm:\n",
    "        x = ps_stem(x)\n",
    "    if lem:\n",
    "        x = wnl_lemmatize(x)\n",
    "    if tgps:\n",
    "        x = tag_pos(x)\n",
    "    return x"
   ]
  },
  {
   "cell_type": "code",
   "execution_count": 13,
   "metadata": {
    "ExecuteTime": {
     "end_time": "2019-04-19T09:34:32.546062Z",
     "start_time": "2019-04-19T09:34:26.939841Z"
    }
   },
   "outputs": [],
   "source": [
    "data['poem'] = data['poem'].apply(lambda x: cleanText(x, True, False, True, False))"
   ]
  },
  {
   "cell_type": "code",
   "execution_count": null,
   "metadata": {},
   "outputs": [],
   "source": []
  },
  {
   "cell_type": "code",
   "execution_count": null,
   "metadata": {
    "ExecuteTime": {
     "end_time": "2019-04-19T09:30:07.879279Z",
     "start_time": "2019-04-19T09:30:07.858275Z"
    }
   },
   "outputs": [],
   "source": []
  },
  {
   "cell_type": "markdown",
   "metadata": {
    "ExecuteTime": {
     "end_time": "2019-04-16T13:03:43.276461Z",
     "start_time": "2019-04-16T13:03:43.260506Z"
    }
   },
   "source": [
    "## TFIDF Vectorizing"
   ]
  },
  {
   "cell_type": "code",
   "execution_count": 14,
   "metadata": {
    "ExecuteTime": {
     "end_time": "2019-04-19T09:34:32.553055Z",
     "start_time": "2019-04-19T09:34:32.548974Z"
    }
   },
   "outputs": [],
   "source": [
    "from sklearn.feature_extraction.text import TfidfVectorizer"
   ]
  },
  {
   "cell_type": "code",
   "execution_count": 15,
   "metadata": {
    "ExecuteTime": {
     "end_time": "2019-04-19T09:34:33.721592Z",
     "start_time": "2019-04-19T09:34:32.557113Z"
    }
   },
   "outputs": [],
   "source": [
    "vectorizer = TfidfVectorizer()\n",
    "vectorizer.fit(data['poem'])\n",
    "X_Vect = vectorizer.transform(data['poem'])"
   ]
  },
  {
   "cell_type": "markdown",
   "metadata": {},
   "source": [
    "# Machine Learning"
   ]
  },
  {
   "cell_type": "code",
   "execution_count": 16,
   "metadata": {
    "ExecuteTime": {
     "end_time": "2019-04-19T09:34:33.733529Z",
     "start_time": "2019-04-19T09:34:33.725606Z"
    }
   },
   "outputs": [],
   "source": [
    "from sklearn.model_selection import cross_val_score\n",
    "from sklearn.metrics import classification_report, confusion_matrix\n",
    "from sklearn.model_selection import train_test_split"
   ]
  },
  {
   "cell_type": "code",
   "execution_count": 17,
   "metadata": {
    "ExecuteTime": {
     "end_time": "2019-04-19T09:34:33.875002Z",
     "start_time": "2019-04-19T09:34:33.736855Z"
    }
   },
   "outputs": [],
   "source": [
    "Y = data[y_cols]"
   ]
  },
  {
   "cell_type": "code",
   "execution_count": 18,
   "metadata": {
    "ExecuteTime": {
     "end_time": "2019-04-19T09:34:34.037836Z",
     "start_time": "2019-04-19T09:34:33.880380Z"
    }
   },
   "outputs": [],
   "source": [
    "X_train, X_test, Y_train, Y_test = train_test_split(X_Vect, Y, test_size=0.1, random_state=42)"
   ]
  },
  {
   "cell_type": "markdown",
   "metadata": {},
   "source": [
    "## Logistic Regression"
   ]
  },
  {
   "cell_type": "code",
   "execution_count": 19,
   "metadata": {
    "ExecuteTime": {
     "end_time": "2019-04-19T09:34:34.188920Z",
     "start_time": "2019-04-19T09:34:34.044823Z"
    }
   },
   "outputs": [],
   "source": [
    "from sklearn.linear_model import LogisticRegression"
   ]
  },
  {
   "cell_type": "code",
   "execution_count": 20,
   "metadata": {
    "ExecuteTime": {
     "end_time": "2019-04-19T09:34:34.704162Z",
     "start_time": "2019-04-19T09:34:34.190914Z"
    }
   },
   "outputs": [
    {
     "name": "stdout",
     "output_type": "stream",
     "text": [
      "activities\n",
      "[[38  8]\n",
      " [ 0  0]]\n",
      "              precision    recall  f1-score   support\n",
      "\n",
      "         0.0       1.00      0.83      0.90        46\n",
      "         1.0       0.00      0.00      0.00         0\n",
      "\n",
      "   micro avg       0.83      0.83      0.83        46\n",
      "   macro avg       0.50      0.41      0.45        46\n",
      "weighted avg       1.00      0.83      0.90        46\n"
     ]
    },
    {
     "name": "stderr",
     "output_type": "stream",
     "text": [
      "D:\\Users\\Ritvik\\Anaconda3\\envs\\datascience\\lib\\site-packages\\sklearn\\linear_model\\logistic.py:433: FutureWarning: Default solver will be changed to 'lbfgs' in 0.22. Specify a solver to silence this warning.\n",
      "  FutureWarning)\n",
      "D:\\Users\\Ritvik\\Anaconda3\\envs\\datascience\\lib\\site-packages\\sklearn\\metrics\\classification.py:1145: UndefinedMetricWarning: Recall and F-score are ill-defined and being set to 0.0 in labels with no true samples.\n",
      "  'recall', 'true', average, warn_for)\n"
     ]
    },
    {
     "name": "stdout",
     "output_type": "stream",
     "text": [
      "\n",
      "\n",
      "art_and_sciences\n",
      "[[36 10]\n",
      " [ 0  0]]\n",
      "              precision    recall  f1-score   support\n",
      "\n",
      "         0.0       1.00      0.78      0.88        46\n",
      "         1.0       0.00      0.00      0.00         0\n",
      "\n",
      "   micro avg       0.78      0.78      0.78        46\n",
      "   macro avg       0.50      0.39      0.44        46\n",
      "weighted avg       1.00      0.78      0.88        46\n",
      "\n",
      "\n",
      "living\n",
      "[[37  9]\n",
      " [ 0  0]]\n",
      "              precision    recall  f1-score   support\n",
      "\n",
      "         0.0       1.00      0.80      0.89        46\n",
      "         1.0       0.00      0.00      0.00         0\n",
      "\n",
      "   micro avg       0.80      0.80      0.80        46\n",
      "   macro avg       0.50      0.40      0.45        46\n",
      "weighted avg       1.00      0.80      0.89        46\n",
      "\n",
      "\n",
      "love\n",
      "[[33 13]\n",
      " [ 0  0]]\n",
      "              precision    recall  f1-score   support\n",
      "\n",
      "         0.0       1.00      0.72      0.84        46\n",
      "         1.0       0.00      0.00      0.00         0\n",
      "\n",
      "   micro avg       0.72      0.72      0.72        46\n",
      "   macro avg       0.50      0.36      0.42        46\n",
      "weighted avg       1.00      0.72      0.84        46\n",
      "\n",
      "\n",
      "mythology_and_folklore\n",
      "[[34 12]\n",
      " [ 0  0]]\n",
      "              precision    recall  f1-score   support\n",
      "\n",
      "         0.0       1.00      0.74      0.85        46\n",
      "         1.0       0.00      0.00      0.00         0\n",
      "\n",
      "   micro avg       0.74      0.74      0.74        46\n",
      "   macro avg       0.50      0.37      0.42        46\n",
      "weighted avg       1.00      0.74      0.85        46\n",
      "\n",
      "\n",
      "nature\n",
      "[[37  9]\n",
      " [ 0  0]]\n",
      "              precision    recall  f1-score   support\n",
      "\n",
      "         0.0       1.00      0.80      0.89        46\n",
      "         1.0       0.00      0.00      0.00         0\n",
      "\n",
      "   micro avg       0.80      0.80      0.80        46\n",
      "   macro avg       0.50      0.40      0.45        46\n",
      "weighted avg       1.00      0.80      0.89        46\n",
      "\n",
      "\n",
      "relationships\n",
      "[[36 10]\n",
      " [ 0  0]]\n",
      "              precision    recall  f1-score   support\n",
      "\n",
      "         0.0       1.00      0.78      0.88        46\n",
      "         1.0       0.00      0.00      0.00         0\n",
      "\n",
      "   micro avg       0.78      0.78      0.78        46\n",
      "   macro avg       0.50      0.39      0.44        46\n",
      "weighted avg       1.00      0.78      0.88        46\n",
      "\n",
      "\n",
      "religion\n",
      "[[37  9]\n",
      " [ 0  0]]\n",
      "              precision    recall  f1-score   support\n",
      "\n",
      "         0.0       1.00      0.80      0.89        46\n",
      "         1.0       0.00      0.00      0.00         0\n",
      "\n",
      "   micro avg       0.80      0.80      0.80        46\n",
      "   macro avg       0.50      0.40      0.45        46\n",
      "weighted avg       1.00      0.80      0.89        46\n",
      "\n",
      "\n",
      "social_commentaries\n",
      "[[39  7]\n",
      " [ 0  0]]\n",
      "              precision    recall  f1-score   support\n",
      "\n",
      "         0.0       1.00      0.85      0.92        46\n",
      "         1.0       0.00      0.00      0.00         0\n",
      "\n",
      "   micro avg       0.85      0.85      0.85        46\n",
      "   macro avg       0.50      0.42      0.46        46\n",
      "weighted avg       1.00      0.85      0.92        46\n",
      "\n",
      "\n"
     ]
    }
   ],
   "source": [
    "for y in y_cols:\n",
    "    print(y)\n",
    "    model = LogisticRegression()\n",
    "    model.fit(X_train, Y_train[y])\n",
    "    y_pred = model.predict(X_test)\n",
    "    print(confusion_matrix(y_pred, Y_test[y]))\n",
    "    print(classification_report(y_pred, Y_test[y]))\n",
    "    print()"
   ]
  },
  {
   "cell_type": "markdown",
   "metadata": {},
   "source": [
    "## Multinomial Naive Bayes"
   ]
  },
  {
   "cell_type": "code",
   "execution_count": 21,
   "metadata": {
    "ExecuteTime": {
     "end_time": "2019-04-19T09:34:34.785745Z",
     "start_time": "2019-04-19T09:34:34.709305Z"
    }
   },
   "outputs": [],
   "source": [
    "from sklearn.naive_bayes import MultinomialNB"
   ]
  },
  {
   "cell_type": "code",
   "execution_count": 22,
   "metadata": {
    "ExecuteTime": {
     "end_time": "2019-04-19T09:34:35.052103Z",
     "start_time": "2019-04-19T09:34:34.790732Z"
    }
   },
   "outputs": [
    {
     "name": "stdout",
     "output_type": "stream",
     "text": [
      "activities\n",
      "[[38  8]\n",
      " [ 0  0]]\n",
      "              precision    recall  f1-score   support\n",
      "\n",
      "         0.0       1.00      0.83      0.90        46\n",
      "         1.0       0.00      0.00      0.00         0\n",
      "\n",
      "   micro avg       0.83      0.83      0.83        46\n",
      "   macro avg       0.50      0.41      0.45        46\n",
      "weighted avg       1.00      0.83      0.90        46\n",
      "\n",
      "\n",
      "art_and_sciences\n",
      "[[36 10]\n",
      " [ 0  0]]\n",
      "              precision    recall  f1-score   support\n",
      "\n",
      "         0.0       1.00      0.78      0.88        46\n",
      "         1.0       0.00      0.00      0.00         0\n",
      "\n",
      "   micro avg       0.78      0.78      0.78        46\n",
      "   macro avg       0.50      0.39      0.44        46\n",
      "weighted avg       1.00      0.78      0.88        46\n",
      "\n",
      "\n",
      "living\n",
      "[[37  9]\n",
      " [ 0  0]]\n",
      "              precision    recall  f1-score   support\n",
      "\n",
      "         0.0       1.00      0.80      0.89        46\n",
      "         1.0       0.00      0.00      0.00         0\n",
      "\n",
      "   micro avg       0.80      0.80      0.80        46\n",
      "   macro avg       0.50      0.40      0.45        46\n",
      "weighted avg       1.00      0.80      0.89        46\n",
      "\n",
      "\n",
      "love\n",
      "[[33 13]\n",
      " [ 0  0]]\n",
      "              precision    recall  f1-score   support\n",
      "\n",
      "         0.0       1.00      0.72      0.84        46\n",
      "         1.0       0.00      0.00      0.00         0\n",
      "\n",
      "   micro avg       0.72      0.72      0.72        46\n",
      "   macro avg       0.50      0.36      0.42        46\n",
      "weighted avg       1.00      0.72      0.84        46\n",
      "\n",
      "\n",
      "mythology_and_folklore\n",
      "[[34 12]\n",
      " [ 0  0]]\n",
      "              precision    recall  f1-score   support\n",
      "\n",
      "         0.0       1.00      0.74      0.85        46\n",
      "         1.0       0.00      0.00      0.00         0\n",
      "\n",
      "   micro avg       0.74      0.74      0.74        46\n",
      "   macro avg       0.50      0.37      0.42        46\n",
      "weighted avg       1.00      0.74      0.85        46\n",
      "\n",
      "\n",
      "nature\n",
      "[[37  9]\n",
      " [ 0  0]]\n",
      "              precision    recall  f1-score   support\n",
      "\n",
      "         0.0       1.00      0.80      0.89        46\n",
      "         1.0       0.00      0.00      0.00         0\n",
      "\n",
      "   micro avg       0.80      0.80      0.80        46\n",
      "   macro avg       0.50      0.40      0.45        46\n",
      "weighted avg       1.00      0.80      0.89        46\n",
      "\n",
      "\n",
      "relationships\n",
      "[[36 10]\n",
      " [ 0  0]]\n",
      "              precision    recall  f1-score   support\n",
      "\n",
      "         0.0       1.00      0.78      0.88        46\n",
      "         1.0       0.00      0.00      0.00         0\n",
      "\n",
      "   micro avg       0.78      0.78      0.78        46\n",
      "   macro avg       0.50      0.39      0.44        46\n",
      "weighted avg       1.00      0.78      0.88        46\n",
      "\n",
      "\n",
      "religion\n",
      "[[37  9]\n",
      " [ 0  0]]\n",
      "              precision    recall  f1-score   support\n",
      "\n",
      "         0.0       1.00      0.80      0.89        46\n",
      "         1.0       0.00      0.00      0.00         0\n",
      "\n",
      "   micro avg       0.80      0.80      0.80        46\n",
      "   macro avg       0.50      0.40      0.45        46\n",
      "weighted avg       1.00      0.80      0.89        46\n",
      "\n",
      "\n",
      "social_commentaries\n",
      "[[39  7]\n",
      " [ 0  0]]\n",
      "              precision    recall  f1-score   support\n",
      "\n",
      "         0.0       1.00      0.85      0.92        46\n",
      "         1.0       0.00      0.00      0.00         0\n",
      "\n",
      "   micro avg       0.85      0.85      0.85        46\n",
      "   macro avg       0.50      0.42      0.46        46\n",
      "weighted avg       1.00      0.85      0.92        46\n",
      "\n",
      "\n"
     ]
    },
    {
     "name": "stderr",
     "output_type": "stream",
     "text": [
      "D:\\Users\\Ritvik\\Anaconda3\\envs\\datascience\\lib\\site-packages\\sklearn\\metrics\\classification.py:1145: UndefinedMetricWarning: Recall and F-score are ill-defined and being set to 0.0 in labels with no true samples.\n",
      "  'recall', 'true', average, warn_for)\n",
      "D:\\Users\\Ritvik\\Anaconda3\\envs\\datascience\\lib\\site-packages\\sklearn\\metrics\\classification.py:1145: UndefinedMetricWarning: Recall and F-score are ill-defined and being set to 0.0 in labels with no true samples.\n",
      "  'recall', 'true', average, warn_for)\n",
      "D:\\Users\\Ritvik\\Anaconda3\\envs\\datascience\\lib\\site-packages\\sklearn\\metrics\\classification.py:1145: UndefinedMetricWarning: Recall and F-score are ill-defined and being set to 0.0 in labels with no true samples.\n",
      "  'recall', 'true', average, warn_for)\n",
      "D:\\Users\\Ritvik\\Anaconda3\\envs\\datascience\\lib\\site-packages\\sklearn\\metrics\\classification.py:1145: UndefinedMetricWarning: Recall and F-score are ill-defined and being set to 0.0 in labels with no true samples.\n",
      "  'recall', 'true', average, warn_for)\n",
      "D:\\Users\\Ritvik\\Anaconda3\\envs\\datascience\\lib\\site-packages\\sklearn\\metrics\\classification.py:1145: UndefinedMetricWarning: Recall and F-score are ill-defined and being set to 0.0 in labels with no true samples.\n",
      "  'recall', 'true', average, warn_for)\n",
      "D:\\Users\\Ritvik\\Anaconda3\\envs\\datascience\\lib\\site-packages\\sklearn\\metrics\\classification.py:1145: UndefinedMetricWarning: Recall and F-score are ill-defined and being set to 0.0 in labels with no true samples.\n",
      "  'recall', 'true', average, warn_for)\n",
      "D:\\Users\\Ritvik\\Anaconda3\\envs\\datascience\\lib\\site-packages\\sklearn\\metrics\\classification.py:1145: UndefinedMetricWarning: Recall and F-score are ill-defined and being set to 0.0 in labels with no true samples.\n",
      "  'recall', 'true', average, warn_for)\n",
      "D:\\Users\\Ritvik\\Anaconda3\\envs\\datascience\\lib\\site-packages\\sklearn\\metrics\\classification.py:1145: UndefinedMetricWarning: Recall and F-score are ill-defined and being set to 0.0 in labels with no true samples.\n",
      "  'recall', 'true', average, warn_for)\n",
      "D:\\Users\\Ritvik\\Anaconda3\\envs\\datascience\\lib\\site-packages\\sklearn\\metrics\\classification.py:1145: UndefinedMetricWarning: Recall and F-score are ill-defined and being set to 0.0 in labels with no true samples.\n",
      "  'recall', 'true', average, warn_for)\n"
     ]
    }
   ],
   "source": [
    "for y in y_cols:\n",
    "    print(y)\n",
    "    model = MultinomialNB()\n",
    "    model.fit(X_train, Y_train[y])\n",
    "    y_pred = model.predict(X_test)\n",
    "    print(confusion_matrix(y_pred, Y_test[y]))\n",
    "    print(classification_report(y_pred, Y_test[y]))\n",
    "    print()"
   ]
  },
  {
   "cell_type": "markdown",
   "metadata": {},
   "source": [
    "## Random Forest Classifier"
   ]
  },
  {
   "cell_type": "code",
   "execution_count": 23,
   "metadata": {
    "ExecuteTime": {
     "end_time": "2019-04-19T09:34:35.592141Z",
     "start_time": "2019-04-19T09:34:35.065287Z"
    }
   },
   "outputs": [],
   "source": [
    "from sklearn.ensemble import RandomForestClassifier"
   ]
  },
  {
   "cell_type": "code",
   "execution_count": 24,
   "metadata": {
    "ExecuteTime": {
     "end_time": "2019-04-19T09:34:36.583005Z",
     "start_time": "2019-04-19T09:34:35.600094Z"
    }
   },
   "outputs": [
    {
     "name": "stdout",
     "output_type": "stream",
     "text": [
      "activities\n"
     ]
    },
    {
     "name": "stderr",
     "output_type": "stream",
     "text": [
      "D:\\Users\\Ritvik\\Anaconda3\\envs\\datascience\\lib\\site-packages\\sklearn\\ensemble\\forest.py:246: FutureWarning: The default value of n_estimators will change from 10 in version 0.20 to 100 in 0.22.\n",
      "  \"10 in version 0.20 to 100 in 0.22.\", FutureWarning)\n",
      "D:\\Users\\Ritvik\\Anaconda3\\envs\\datascience\\lib\\site-packages\\sklearn\\metrics\\classification.py:1145: UndefinedMetricWarning: Recall and F-score are ill-defined and being set to 0.0 in labels with no true samples.\n",
      "  'recall', 'true', average, warn_for)\n"
     ]
    },
    {
     "name": "stdout",
     "output_type": "stream",
     "text": [
      "[[38  8]\n",
      " [ 0  0]]\n",
      "              precision    recall  f1-score   support\n",
      "\n",
      "         0.0       1.00      0.83      0.90        46\n",
      "         1.0       0.00      0.00      0.00         0\n",
      "\n",
      "   micro avg       0.83      0.83      0.83        46\n",
      "   macro avg       0.50      0.41      0.45        46\n",
      "weighted avg       1.00      0.83      0.90        46\n",
      "\n",
      "\n",
      "art_and_sciences\n",
      "[[36 10]\n",
      " [ 0  0]]\n",
      "              precision    recall  f1-score   support\n",
      "\n",
      "         0.0       1.00      0.78      0.88        46\n",
      "         1.0       0.00      0.00      0.00         0\n",
      "\n",
      "   micro avg       0.78      0.78      0.78        46\n",
      "   macro avg       0.50      0.39      0.44        46\n",
      "weighted avg       1.00      0.78      0.88        46\n",
      "\n",
      "\n",
      "living\n"
     ]
    },
    {
     "name": "stderr",
     "output_type": "stream",
     "text": [
      "D:\\Users\\Ritvik\\Anaconda3\\envs\\datascience\\lib\\site-packages\\sklearn\\ensemble\\forest.py:246: FutureWarning: The default value of n_estimators will change from 10 in version 0.20 to 100 in 0.22.\n",
      "  \"10 in version 0.20 to 100 in 0.22.\", FutureWarning)\n",
      "D:\\Users\\Ritvik\\Anaconda3\\envs\\datascience\\lib\\site-packages\\sklearn\\metrics\\classification.py:1145: UndefinedMetricWarning: Recall and F-score are ill-defined and being set to 0.0 in labels with no true samples.\n",
      "  'recall', 'true', average, warn_for)\n",
      "D:\\Users\\Ritvik\\Anaconda3\\envs\\datascience\\lib\\site-packages\\sklearn\\ensemble\\forest.py:246: FutureWarning: The default value of n_estimators will change from 10 in version 0.20 to 100 in 0.22.\n",
      "  \"10 in version 0.20 to 100 in 0.22.\", FutureWarning)\n"
     ]
    },
    {
     "name": "stdout",
     "output_type": "stream",
     "text": [
      "[[36  9]\n",
      " [ 1  0]]\n",
      "              precision    recall  f1-score   support\n",
      "\n",
      "         0.0       0.97      0.80      0.88        45\n",
      "         1.0       0.00      0.00      0.00         1\n",
      "\n",
      "   micro avg       0.78      0.78      0.78        46\n",
      "   macro avg       0.49      0.40      0.44        46\n",
      "weighted avg       0.95      0.78      0.86        46\n",
      "\n",
      "\n",
      "love\n",
      "[[32 13]\n",
      " [ 1  0]]\n",
      "              precision    recall  f1-score   support\n",
      "\n",
      "         0.0       0.97      0.71      0.82        45\n",
      "         1.0       0.00      0.00      0.00         1\n",
      "\n",
      "   micro avg       0.70      0.70      0.70        46\n",
      "   macro avg       0.48      0.36      0.41        46\n",
      "weighted avg       0.95      0.70      0.80        46\n",
      "\n",
      "\n",
      "mythology_and_folklore\n",
      "[[33 11]\n",
      " [ 1  1]]\n",
      "              precision    recall  f1-score   support\n",
      "\n",
      "         0.0       0.97      0.75      0.85        44\n",
      "         1.0       0.08      0.50      0.14         2\n",
      "\n",
      "   micro avg       0.74      0.74      0.74        46\n",
      "   macro avg       0.53      0.62      0.49        46\n",
      "weighted avg       0.93      0.74      0.82        46\n"
     ]
    },
    {
     "name": "stderr",
     "output_type": "stream",
     "text": [
      "D:\\Users\\Ritvik\\Anaconda3\\envs\\datascience\\lib\\site-packages\\sklearn\\ensemble\\forest.py:246: FutureWarning: The default value of n_estimators will change from 10 in version 0.20 to 100 in 0.22.\n",
      "  \"10 in version 0.20 to 100 in 0.22.\", FutureWarning)\n",
      "D:\\Users\\Ritvik\\Anaconda3\\envs\\datascience\\lib\\site-packages\\sklearn\\ensemble\\forest.py:246: FutureWarning: The default value of n_estimators will change from 10 in version 0.20 to 100 in 0.22.\n",
      "  \"10 in version 0.20 to 100 in 0.22.\", FutureWarning)\n"
     ]
    },
    {
     "name": "stdout",
     "output_type": "stream",
     "text": [
      "\n",
      "\n",
      "nature\n",
      "[[37  8]\n",
      " [ 0  1]]\n",
      "              precision    recall  f1-score   support\n",
      "\n",
      "         0.0       1.00      0.82      0.90        45\n",
      "         1.0       0.11      1.00      0.20         1\n",
      "\n",
      "   micro avg       0.83      0.83      0.83        46\n",
      "   macro avg       0.56      0.91      0.55        46\n",
      "weighted avg       0.98      0.83      0.89        46\n",
      "\n",
      "\n",
      "relationships\n",
      "[[36 10]\n",
      " [ 0  0]]\n",
      "              precision    recall  f1-score   support\n",
      "\n",
      "         0.0       1.00      0.78      0.88        46\n",
      "         1.0       0.00      0.00      0.00         0\n",
      "\n",
      "   micro avg       0.78      0.78      0.78        46\n",
      "   macro avg       0.50      0.39      0.44        46\n",
      "weighted avg       1.00      0.78      0.88        46\n",
      "\n",
      "\n",
      "religion\n"
     ]
    },
    {
     "name": "stderr",
     "output_type": "stream",
     "text": [
      "D:\\Users\\Ritvik\\Anaconda3\\envs\\datascience\\lib\\site-packages\\sklearn\\ensemble\\forest.py:246: FutureWarning: The default value of n_estimators will change from 10 in version 0.20 to 100 in 0.22.\n",
      "  \"10 in version 0.20 to 100 in 0.22.\", FutureWarning)\n",
      "D:\\Users\\Ritvik\\Anaconda3\\envs\\datascience\\lib\\site-packages\\sklearn\\ensemble\\forest.py:246: FutureWarning: The default value of n_estimators will change from 10 in version 0.20 to 100 in 0.22.\n",
      "  \"10 in version 0.20 to 100 in 0.22.\", FutureWarning)\n",
      "D:\\Users\\Ritvik\\Anaconda3\\envs\\datascience\\lib\\site-packages\\sklearn\\metrics\\classification.py:1145: UndefinedMetricWarning: Recall and F-score are ill-defined and being set to 0.0 in labels with no true samples.\n",
      "  'recall', 'true', average, warn_for)\n",
      "D:\\Users\\Ritvik\\Anaconda3\\envs\\datascience\\lib\\site-packages\\sklearn\\ensemble\\forest.py:246: FutureWarning: The default value of n_estimators will change from 10 in version 0.20 to 100 in 0.22.\n",
      "  \"10 in version 0.20 to 100 in 0.22.\", FutureWarning)\n",
      "D:\\Users\\Ritvik\\Anaconda3\\envs\\datascience\\lib\\site-packages\\sklearn\\metrics\\classification.py:1145: UndefinedMetricWarning: Recall and F-score are ill-defined and being set to 0.0 in labels with no true samples.\n",
      "  'recall', 'true', average, warn_for)\n"
     ]
    },
    {
     "name": "stdout",
     "output_type": "stream",
     "text": [
      "[[37  9]\n",
      " [ 0  0]]\n",
      "              precision    recall  f1-score   support\n",
      "\n",
      "         0.0       1.00      0.80      0.89        46\n",
      "         1.0       0.00      0.00      0.00         0\n",
      "\n",
      "   micro avg       0.80      0.80      0.80        46\n",
      "   macro avg       0.50      0.40      0.45        46\n",
      "weighted avg       1.00      0.80      0.89        46\n",
      "\n",
      "\n",
      "social_commentaries\n",
      "[[39  7]\n",
      " [ 0  0]]\n",
      "              precision    recall  f1-score   support\n",
      "\n",
      "         0.0       1.00      0.85      0.92        46\n",
      "         1.0       0.00      0.00      0.00         0\n",
      "\n",
      "   micro avg       0.85      0.85      0.85        46\n",
      "   macro avg       0.50      0.42      0.46        46\n",
      "weighted avg       1.00      0.85      0.92        46\n",
      "\n",
      "\n"
     ]
    },
    {
     "name": "stderr",
     "output_type": "stream",
     "text": [
      "D:\\Users\\Ritvik\\Anaconda3\\envs\\datascience\\lib\\site-packages\\sklearn\\ensemble\\forest.py:246: FutureWarning: The default value of n_estimators will change from 10 in version 0.20 to 100 in 0.22.\n",
      "  \"10 in version 0.20 to 100 in 0.22.\", FutureWarning)\n",
      "D:\\Users\\Ritvik\\Anaconda3\\envs\\datascience\\lib\\site-packages\\sklearn\\metrics\\classification.py:1145: UndefinedMetricWarning: Recall and F-score are ill-defined and being set to 0.0 in labels with no true samples.\n",
      "  'recall', 'true', average, warn_for)\n"
     ]
    }
   ],
   "source": [
    "for y in y_cols:\n",
    "    print(y)\n",
    "    model = RandomForestClassifier()\n",
    "    model.fit(X_train, Y_train[y])\n",
    "    y_pred = model.predict(X_test)\n",
    "    print(confusion_matrix(y_pred, Y_test[y]))\n",
    "    print(classification_report(y_pred, Y_test[y]))\n",
    "    print()"
   ]
  },
  {
   "cell_type": "markdown",
   "metadata": {},
   "source": [
    "## SGD Classifier"
   ]
  },
  {
   "cell_type": "code",
   "execution_count": 25,
   "metadata": {
    "ExecuteTime": {
     "end_time": "2019-04-19T09:34:36.594980Z",
     "start_time": "2019-04-19T09:34:36.586996Z"
    }
   },
   "outputs": [],
   "source": [
    "from sklearn.linear_model import SGDClassifier"
   ]
  },
  {
   "cell_type": "code",
   "execution_count": 26,
   "metadata": {
    "ExecuteTime": {
     "end_time": "2019-04-19T09:34:36.886966Z",
     "start_time": "2019-04-19T09:34:36.598341Z"
    }
   },
   "outputs": [
    {
     "name": "stdout",
     "output_type": "stream",
     "text": [
      "activities\n",
      "[[35  5]\n",
      " [ 3  3]]\n",
      "              precision    recall  f1-score   support\n",
      "\n",
      "         0.0       0.92      0.88      0.90        40\n",
      "         1.0       0.38      0.50      0.43         6\n",
      "\n",
      "   micro avg       0.83      0.83      0.83        46\n",
      "   macro avg       0.65      0.69      0.66        46\n",
      "weighted avg       0.85      0.83      0.84        46\n",
      "\n",
      "\n",
      "art_and_sciences\n",
      "[[36 10]\n",
      " [ 0  0]]\n",
      "              precision    recall  f1-score   support\n",
      "\n",
      "         0.0       1.00      0.78      0.88        46\n",
      "         1.0       0.00      0.00      0.00         0\n",
      "\n",
      "   micro avg       0.78      0.78      0.78        46\n",
      "   macro avg       0.50      0.39      0.44        46\n",
      "weighted avg       1.00      0.78      0.88        46\n",
      "\n",
      "\n",
      "living\n",
      "[[36  8]\n",
      " [ 1  1]]\n",
      "              precision    recall  f1-score   support\n",
      "\n",
      "         0.0       0.97      0.82      0.89        44\n",
      "         1.0       0.11      0.50      0.18         2\n",
      "\n",
      "   micro avg       0.80      0.80      0.80        46\n",
      "   macro avg       0.54      0.66      0.54        46\n",
      "weighted avg       0.94      0.80      0.86        46\n",
      "\n",
      "\n",
      "love\n",
      "[[33 12]\n",
      " [ 0  1]]\n",
      "              precision    recall  f1-score   support\n",
      "\n",
      "         0.0       1.00      0.73      0.85        45\n",
      "         1.0       0.08      1.00      0.14         1\n",
      "\n",
      "   micro avg       0.74      0.74      0.74        46\n",
      "   macro avg       0.54      0.87      0.49        46\n",
      "weighted avg       0.98      0.74      0.83        46\n",
      "\n",
      "\n",
      "mythology_and_folklore\n",
      "[[34 11]\n",
      " [ 0  1]]\n",
      "              precision    recall  f1-score   support\n",
      "\n",
      "         0.0       1.00      0.76      0.86        45\n",
      "         1.0       0.08      1.00      0.15         1\n",
      "\n",
      "   micro avg       0.76      0.76      0.76        46\n",
      "   macro avg       0.54      0.88      0.51        46\n",
      "weighted avg       0.98      0.76      0.85        46\n",
      "\n",
      "\n",
      "nature\n",
      "[[36  7]\n",
      " [ 1  2]]\n",
      "              precision    recall  f1-score   support\n",
      "\n",
      "         0.0       0.97      0.84      0.90        43\n",
      "         1.0       0.22      0.67      0.33         3\n",
      "\n",
      "   micro avg       0.83      0.83      0.83        46\n",
      "   macro avg       0.60      0.75      0.62        46\n",
      "weighted avg       0.92      0.83      0.86        46\n",
      "\n",
      "\n",
      "relationships\n",
      "[[36  8]\n",
      " [ 0  2]]\n",
      "              precision    recall  f1-score   support\n",
      "\n",
      "         0.0       1.00      0.82      0.90        44\n",
      "         1.0       0.20      1.00      0.33         2\n",
      "\n",
      "   micro avg       0.83      0.83      0.83        46\n",
      "   macro avg       0.60      0.91      0.62        46\n",
      "weighted avg       0.97      0.83      0.88        46\n",
      "\n",
      "\n",
      "religion\n",
      "[[36  8]\n",
      " [ 1  1]]\n",
      "              precision    recall  f1-score   support\n",
      "\n",
      "         0.0       0.97      0.82      0.89        44\n",
      "         1.0       0.11      0.50      0.18         2\n",
      "\n",
      "   micro avg       0.80      0.80      0.80        46\n",
      "   macro avg       0.54      0.66      0.54        46\n",
      "weighted avg       0.94      0.80      0.86        46\n",
      "\n",
      "\n",
      "social_commentaries\n",
      "[[39  6]\n",
      " [ 0  1]]\n",
      "              precision    recall  f1-score   support\n",
      "\n",
      "         0.0       1.00      0.87      0.93        45\n",
      "         1.0       0.14      1.00      0.25         1\n",
      "\n",
      "   micro avg       0.87      0.87      0.87        46\n",
      "   macro avg       0.57      0.93      0.59        46\n",
      "weighted avg       0.98      0.87      0.91        46\n",
      "\n",
      "\n"
     ]
    },
    {
     "name": "stderr",
     "output_type": "stream",
     "text": [
      "D:\\Users\\Ritvik\\Anaconda3\\envs\\datascience\\lib\\site-packages\\sklearn\\linear_model\\stochastic_gradient.py:166: FutureWarning: max_iter and tol parameters have been added in SGDClassifier in 0.19. If both are left unset, they default to max_iter=5 and tol=None. If tol is not None, max_iter defaults to max_iter=1000. From 0.21, default max_iter will be 1000, and default tol will be 1e-3.\n",
      "  FutureWarning)\n"
     ]
    }
   ],
   "source": [
    "for y in y_cols:\n",
    "    print(y)\n",
    "    model = SGDClassifier()\n",
    "    model.fit(X_train, Y_train[y])\n",
    "    y_pred = model.predict(X_test)\n",
    "    print(confusion_matrix(y_pred, Y_test[y]))\n",
    "    print(classification_report(y_pred, Y_test[y]))\n",
    "    print()"
   ]
  },
  {
   "cell_type": "markdown",
   "metadata": {
    "ExecuteTime": {
     "end_time": "2019-04-18T05:56:40.875176Z",
     "start_time": "2019-04-18T05:56:40.870427Z"
    },
    "collapsed": true
   },
   "source": [
    "# Model Training and Predictions"
   ]
  },
  {
   "cell_type": "markdown",
   "metadata": {},
   "source": [
    "From the above models sgdclassifier is the best model"
   ]
  },
  {
   "cell_type": "code",
   "execution_count": 27,
   "metadata": {
    "ExecuteTime": {
     "end_time": "2019-04-19T09:34:36.948928Z",
     "start_time": "2019-04-19T09:34:36.892934Z"
    }
   },
   "outputs": [
    {
     "data": {
      "text/plain": [
       "SGDClassifier(alpha=0.0001, average=False, class_weight=None,\n",
       "       early_stopping=False, epsilon=0.1, eta0=0.0, fit_intercept=True,\n",
       "       l1_ratio=0.15, learning_rate='optimal', loss='hinge', max_iter=None,\n",
       "       n_iter=None, n_iter_no_change=5, n_jobs=None, penalty='l2',\n",
       "       power_t=0.5, random_state=None, shuffle=True, tol=None,\n",
       "       validation_fraction=0.1, verbose=0, warm_start=False)"
      ]
     },
     "execution_count": 27,
     "metadata": {},
     "output_type": "execute_result"
    }
   ],
   "source": [
    "clf_activities = SGDClassifier()\n",
    "clf_activities.fit(X_Vect, data['activities'])\n",
    "\n",
    "clf_art_and_sciences = SGDClassifier()\n",
    "clf_art_and_sciences.fit(X_Vect, data['art_and_sciences'])\n",
    "\n",
    "clf_living = SGDClassifier()\n",
    "clf_living.fit(X_Vect, data['living'])\n",
    "\n",
    "clf_love = SGDClassifier()\n",
    "clf_love.fit(X_Vect, data['love'])\n",
    "\n",
    "clf_mythology_and_folklore = SGDClassifier()\n",
    "clf_mythology_and_folklore.fit(X_Vect, data['mythology_and_folklore'])\n",
    "\n",
    "clf_nature = SGDClassifier()\n",
    "clf_nature.fit(X_Vect, data['nature'])\n",
    "\n",
    "clf_relationships = SGDClassifier()\n",
    "clf_relationships.fit(X_Vect, data['relationships'])\n",
    "\n",
    "clf_religion = SGDClassifier()\n",
    "clf_religion.fit(X_Vect, data['religion'])\n",
    "\n",
    "clf_social_commentaries = SGDClassifier()\n",
    "clf_social_commentaries.fit(X_Vect, data['social_commentaries'])"
   ]
  },
  {
   "cell_type": "code",
   "execution_count": 28,
   "metadata": {
    "ExecuteTime": {
     "end_time": "2019-04-19T09:34:37.061334Z",
     "start_time": "2019-04-19T09:34:36.952160Z"
    }
   },
   "outputs": [],
   "source": [
    "def classify(poem):\n",
    "    poem = cleanText(poem, True, False, True, False)\n",
    "    vect = vectorizer.transform([poem])\n",
    "    poem_genre = []\n",
    "    if clf_activities.predict(vect)[0]:\n",
    "        poem_genre.append('Activity')\n",
    "    if clf_art_and_sciences.predict(vect)[0]:\n",
    "        poem_genre.append('Art and Science')\n",
    "    if clf_living.predict(vect)[0]:\n",
    "        poem_genre.append('Living')\n",
    "    if clf_love.predict(vect)[0]:\n",
    "        poem_genre.append('Love')\n",
    "    if clf_mythology_and_folklore.predict(vect)[0]:\n",
    "        poem_genre.append('Mythology and Folklore')\n",
    "    if clf_nature.predict(vect)[0]:\n",
    "        poem_genre.append('Nature')\n",
    "    if clf_relationships.predict(vect)[0]:\n",
    "        poem_genre.append('Relationships')\n",
    "    if clf_religion.predict(vect)[0]:\n",
    "        poem_genre.append('Religion')\n",
    "    if clf_social_commentaries.predict(vect)[0]:\n",
    "        poem_genre.append('Social Commentaries')\n",
    "        \n",
    "    if len(poem_genre) == 0:\n",
    "        poem_genre.append('Miscellaneous')\n",
    "    return poem_genre"
   ]
  },
  {
   "cell_type": "code",
   "execution_count": 29,
   "metadata": {
    "ExecuteTime": {
     "end_time": "2019-04-19T09:34:39.902387Z",
     "start_time": "2019-04-19T09:34:37.065325Z"
    }
   },
   "outputs": [
    {
     "name": "stdout",
     "output_type": "stream",
     "text": [
      "\n"
     ]
    },
    {
     "data": {
      "text/plain": [
       "['Miscellaneous']"
      ]
     },
     "execution_count": 29,
     "metadata": {},
     "output_type": "execute_result"
    }
   ],
   "source": [
    "classify(input())"
   ]
  },
  {
   "cell_type": "markdown",
   "metadata": {},
   "source": [
    "# Deeplearning"
   ]
  },
  {
   "cell_type": "markdown",
   "metadata": {},
   "source": [
    "## Imports"
   ]
  },
  {
   "cell_type": "code",
   "execution_count": 37,
   "metadata": {
    "ExecuteTime": {
     "end_time": "2019-04-19T09:46:22.041868Z",
     "start_time": "2019-04-19T09:46:22.033866Z"
    }
   },
   "outputs": [],
   "source": [
    "from keras.preprocessing.text import Tokenizer\n",
    "from keras.preprocessing.sequence import pad_sequences\n",
    "from keras.models import Sequential\n",
    "from keras.layers import Dense, Flatten, LSTM, Conv1D, MaxPooling1D, Dropout, Activation\n",
    "from keras.layers.embeddings import Embedding"
   ]
  },
  {
   "cell_type": "markdown",
   "metadata": {},
   "source": [
    "## Text Preprocessing\n",
    "Initialize Tokenizer <br>\n",
    "Fit on Texts <br>\n",
    "Tokenize texts to sequences <br>\n",
    "Pad the sequences"
   ]
  },
  {
   "cell_type": "code",
   "execution_count": 38,
   "metadata": {
    "ExecuteTime": {
     "end_time": "2019-04-19T09:46:24.264267Z",
     "start_time": "2019-04-19T09:46:23.285891Z"
    }
   },
   "outputs": [],
   "source": [
    "vocabulary_size = 20000\n",
    "pad_length = 1000\n",
    "tokenizer = Tokenizer(num_words= vocabulary_size)\n",
    "tokenizer.fit_on_texts(data['poem'])\n",
    "sequences = tokenizer.texts_to_sequences(data['poem'])\n",
    "padded_sequences = pad_sequences(sequences, maxlen=pad_length)"
   ]
  },
  {
   "cell_type": "markdown",
   "metadata": {},
   "source": [
    "## Building the LSTM"
   ]
  },
  {
   "cell_type": "code",
   "execution_count": 42,
   "metadata": {
    "ExecuteTime": {
     "end_time": "2019-04-19T09:47:08.590284Z",
     "start_time": "2019-04-19T09:47:08.582314Z"
    }
   },
   "outputs": [],
   "source": [
    "def build_lstm(vocabulary_size, pad_length):\n",
    "    model = Sequential()\n",
    "    model.add(Embedding(vocabulary_size, 1024, input_length=pad_length))\n",
    "    model.add(LSTM(1024, dropout=0.2, recurrent_dropout=0.2))\n",
    "#     model.add(LSTM(32, dropout=0.2, recurrent_dropout=0.2))\n",
    "#     model.add(LSTM(64, dropout=0.2, recurrent_dropout=0.2))\n",
    "    model.add(Dense(9, activation='sigmoid'))\n",
    "    model.compile(loss='categorical_crossentropy', optimizer='adam', metrics=['accuracy'])\n",
    "    model.summary()\n",
    "    return model"
   ]
  },
  {
   "cell_type": "markdown",
   "metadata": {},
   "source": [
    "## Training the Model"
   ]
  },
  {
   "cell_type": "code",
   "execution_count": 44,
   "metadata": {
    "ExecuteTime": {
     "end_time": "2019-04-19T12:42:11.038446Z",
     "start_time": "2019-04-19T09:47:48.054052Z"
    }
   },
   "outputs": [
    {
     "name": "stdout",
     "output_type": "stream",
     "text": [
      "_________________________________________________________________\n",
      "Layer (type)                 Output Shape              Param #   \n",
      "=================================================================\n",
      "embedding_3 (Embedding)      (None, 1000, 1024)        20480000  \n",
      "_________________________________________________________________\n",
      "lstm_4 (LSTM)                (None, 1024)              8392704   \n",
      "_________________________________________________________________\n",
      "dense_2 (Dense)              (None, 9)                 9225      \n",
      "=================================================================\n",
      "Total params: 28,881,929\n",
      "Trainable params: 28,881,929\n",
      "Non-trainable params: 0\n",
      "_________________________________________________________________\n",
      "WARNING:tensorflow:From D:\\Users\\Ritvik\\Anaconda3\\envs\\datascience\\lib\\site-packages\\tensorflow\\python\\ops\\math_ops.py:3066: to_int32 (from tensorflow.python.ops.math_ops) is deprecated and will be removed in a future version.\n",
      "Instructions for updating:\n",
      "Use tf.cast instead.\n",
      "Train on 318 samples, validate on 137 samples\n",
      "Epoch 1/25\n",
      "318/318 [==============================] - 719s 2s/step - loss: 5.1309 - acc: 0.1478 - val_loss: 3.0877 - val_acc: 0.0000e+00\n",
      "Epoch 2/25\n",
      "318/318 [==============================] - 426s 1s/step - loss: 5.0013 - acc: 0.1635 - val_loss: 3.3392 - val_acc: 0.0000e+00\n",
      "Epoch 3/25\n",
      "318/318 [==============================] - 354s 1s/step - loss: 4.9101 - acc: 0.1667 - val_loss: 3.2603 - val_acc: 0.0000e+00\n",
      "Epoch 4/25\n",
      "318/318 [==============================] - 411s 1s/step - loss: 4.8171 - acc: 0.3145 - val_loss: 3.0652 - val_acc: 0.0000e+00\n",
      "Epoch 5/25\n",
      "318/318 [==============================] - 395s 1s/step - loss: 4.4540 - acc: 0.3176 - val_loss: 3.3266 - val_acc: 0.0000e+00\n",
      "Epoch 6/25\n",
      "318/318 [==============================] - 440s 1s/step - loss: 4.1542 - acc: 0.3931 - val_loss: 3.6945 - val_acc: 0.0292\n",
      "Epoch 7/25\n",
      "318/318 [==============================] - 461s 1s/step - loss: 3.9493 - acc: 0.3711 - val_loss: 3.8254 - val_acc: 0.0657\n",
      "Epoch 8/25\n",
      "318/318 [==============================] - 451s 1s/step - loss: 3.7077 - acc: 0.4119 - val_loss: 4.2889 - val_acc: 0.0219\n",
      "Epoch 9/25\n",
      "318/318 [==============================] - 440s 1s/step - loss: 3.5752 - acc: 0.3428 - val_loss: 4.3324 - val_acc: 0.0511\n",
      "Epoch 10/25\n",
      "318/318 [==============================] - 444s 1s/step - loss: 3.4968 - acc: 0.5094 - val_loss: 4.5695 - val_acc: 0.0292\n",
      "Epoch 11/25\n",
      "318/318 [==============================] - 446s 1s/step - loss: 3.4177 - acc: 0.3868 - val_loss: 4.5452 - val_acc: 0.0657\n",
      "Epoch 12/25\n",
      "318/318 [==============================] - 448s 1s/step - loss: 3.3278 - acc: 0.4119 - val_loss: 4.9146 - val_acc: 0.0073\n",
      "Epoch 13/25\n",
      "318/318 [==============================] - 443s 1s/step - loss: 3.3104 - acc: 0.4591 - val_loss: 5.0560 - val_acc: 0.0000e+00\n",
      "Epoch 14/25\n",
      "318/318 [==============================] - 377s 1s/step - loss: 3.2617 - acc: 0.4340 - val_loss: 4.7616 - val_acc: 0.0365\n",
      "Epoch 15/25\n",
      "318/318 [==============================] - 379s 1s/step - loss: 3.2653 - acc: 0.4182 - val_loss: 5.2623 - val_acc: 0.0146\n",
      "Epoch 16/25\n",
      "318/318 [==============================] - 373s 1s/step - loss: 3.2113 - acc: 0.4528 - val_loss: 5.8135 - val_acc: 0.0365\n",
      "Epoch 17/25\n",
      "318/318 [==============================] - 381s 1s/step - loss: 3.1775 - acc: 0.4277 - val_loss: 5.9021 - val_acc: 0.0146\n",
      "Epoch 18/25\n",
      "318/318 [==============================] - 385s 1s/step - loss: 3.1444 - acc: 0.4277 - val_loss: 5.7486 - val_acc: 0.0511\n",
      "Epoch 19/25\n",
      "318/318 [==============================] - 376s 1s/step - loss: 3.1517 - acc: 0.4560 - val_loss: 6.4461 - val_acc: 0.0365\n",
      "Epoch 20/25\n",
      "318/318 [==============================] - 379s 1s/step - loss: 3.1803 - acc: 0.3711 - val_loss: 5.6822 - val_acc: 0.0073\n",
      "Epoch 21/25\n",
      "318/318 [==============================] - 381s 1s/step - loss: 3.1508 - acc: 0.4151 - val_loss: 6.1421 - val_acc: 0.0511\n",
      "Epoch 22/25\n",
      "318/318 [==============================] - 390s 1s/step - loss: 3.1027 - acc: 0.4623 - val_loss: 6.5234 - val_acc: 0.0073\n",
      "Epoch 23/25\n",
      "318/318 [==============================] - 383s 1s/step - loss: 3.1338 - acc: 0.4277 - val_loss: 6.7342 - val_acc: 0.0146\n",
      "Epoch 24/25\n",
      "318/318 [==============================] - 380s 1s/step - loss: 3.1028 - acc: 0.3585 - val_loss: 6.7869 - val_acc: 0.0219\n",
      "Epoch 25/25\n",
      "318/318 [==============================] - 381s 1s/step - loss: 3.1123 - acc: 0.4434 - val_loss: 6.1343 - val_acc: 0.0219\n"
     ]
    },
    {
     "data": {
      "text/plain": [
       "<keras.callbacks.History at 0x249cdbf0278>"
      ]
     },
     "execution_count": 44,
     "metadata": {},
     "output_type": "execute_result"
    }
   ],
   "source": [
    "model = build_lstm(vocabulary_size, pad_length)\n",
    "model.fit(padded_sequences, data[y_cols], validation_split=0.3, epochs=25, )"
   ]
  },
  {
   "cell_type": "code",
   "execution_count": 45,
   "metadata": {
    "ExecuteTime": {
     "end_time": "2019-04-19T13:09:07.937873Z",
     "start_time": "2019-04-19T13:09:07.860081Z"
    }
   },
   "outputs": [],
   "source": [
    "p = \"\"\"Held in the Arms of St. Francis & the Virgin\n",
    "BY JASMINE GIBSON\n",
    "It tastes like all my night\n",
    "when I'm at the bottom of the borough\n",
    "sheets burn around me\n",
    "through the night\n",
    "Consecrate me\n",
    "Consecrate me\n",
    "Conserve me lover\n",
    "In the sills of your love\n",
    "in the cells of your palms\n",
    "from the womb to cell\n",
    "break me from the belly of ship\n",
    "let me crash upon you\n",
    "Consecrate me my lover in your rectum\n",
    "in a rehabilitation center where athletes seek the best care\n",
    "I break into you\n",
    "Consecrate me I want to love you in Syracuse woods\n",
    "in Sonnino love me against lamb’s wool\n",
    "I am my sister's wife keeper\n",
    "Consecrate me\n",
    "in the discretion of sisters\n",
    "nuns loving\n",
    "and hating jobs that ask\n",
    "with fangs barred\n",
    "\n",
    "Jasmine Gibson, \"Held Within St.Francis & The Virgin.\" Copyright © 2019 by Jasmine Gibson. Used by permission of the author for PoetryNow.\"\"\""
   ]
  },
  {
   "cell_type": "code",
   "execution_count": 47,
   "metadata": {
    "ExecuteTime": {
     "end_time": "2019-04-19T13:28:31.904955Z",
     "start_time": "2019-04-19T13:23:52.213654Z"
    }
   },
   "outputs": [],
   "source": [
    "pred_y = model.predict(pad_sequences(tokenizer.texts_to_sequences(p), maxlen=pad_length))"
   ]
  },
  {
   "cell_type": "code",
   "execution_count": 48,
   "metadata": {
    "ExecuteTime": {
     "end_time": "2019-04-19T13:28:33.059786Z",
     "start_time": "2019-04-19T13:28:33.045253Z"
    }
   },
   "outputs": [
    {
     "data": {
      "text/plain": [
       "array([[0.32279176, 0.73432404, 0.66601074, ..., 0.7251124 , 0.44822514,\n",
       "        0.3803529 ],\n",
       "       [0.23288932, 0.7530853 , 0.7020637 , ..., 0.6950103 , 0.42324054,\n",
       "        0.4073293 ],\n",
       "       [0.21679932, 0.72151506, 0.6882336 , ..., 0.6472214 , 0.4056899 ,\n",
       "        0.3684997 ],\n",
       "       ...,\n",
       "       [0.33748102, 0.7707679 , 0.6422552 , ..., 0.7437656 , 0.46445927,\n",
       "        0.38108614],\n",
       "       [0.34751785, 0.7539724 , 0.56069195, ..., 0.6827947 , 0.49798903,\n",
       "        0.40904894],\n",
       "       [0.2833922 , 0.7751882 , 0.6595974 , ..., 0.7297112 , 0.4645761 ,\n",
       "        0.3736109 ]], dtype=float32)"
      ]
     },
     "execution_count": 48,
     "metadata": {},
     "output_type": "execute_result"
    }
   ],
   "source": [
    "pred_y"
   ]
  },
  {
   "cell_type": "code",
   "execution_count": 50,
   "metadata": {
    "ExecuteTime": {
     "end_time": "2019-04-19T13:28:50.782499Z",
     "start_time": "2019-04-19T13:28:50.760453Z"
    }
   },
   "outputs": [
    {
     "data": {
      "text/plain": [
       "9"
      ]
     },
     "execution_count": 50,
     "metadata": {},
     "output_type": "execute_result"
    }
   ],
   "source": [
    "len(pred_y[0])"
   ]
  },
  {
   "cell_type": "code",
   "execution_count": 51,
   "metadata": {
    "ExecuteTime": {
     "end_time": "2019-04-19T13:31:28.707537Z",
     "start_time": "2019-04-19T13:31:13.584469Z"
    }
   },
   "outputs": [],
   "source": [
    "model.save('lstm.h5')"
   ]
  },
  {
   "cell_type": "code",
   "execution_count": null,
   "metadata": {},
   "outputs": [],
   "source": []
  }
 ],
 "metadata": {
  "kernelspec": {
   "display_name": "Python 3",
   "language": "python",
   "name": "python3"
  },
  "language_info": {
   "codemirror_mode": {
    "name": "ipython",
    "version": 3
   },
   "file_extension": ".py",
   "mimetype": "text/x-python",
   "name": "python",
   "nbconvert_exporter": "python",
   "pygments_lexer": "ipython3",
   "version": "3.7.3"
  },
  "toc": {
   "base_numbering": 1,
   "nav_menu": {},
   "number_sections": true,
   "sideBar": true,
   "skip_h1_title": false,
   "title_cell": "Table of Contents",
   "title_sidebar": "Contents",
   "toc_cell": false,
   "toc_position": {},
   "toc_section_display": true,
   "toc_window_display": false
  },
  "varInspector": {
   "cols": {
    "lenName": 16,
    "lenType": 16,
    "lenVar": 40
   },
   "kernels_config": {
    "python": {
     "delete_cmd_postfix": "",
     "delete_cmd_prefix": "del ",
     "library": "var_list.py",
     "varRefreshCmd": "print(var_dic_list())"
    },
    "r": {
     "delete_cmd_postfix": ") ",
     "delete_cmd_prefix": "rm(",
     "library": "var_list.r",
     "varRefreshCmd": "cat(var_dic_list()) "
    }
   },
   "types_to_exclude": [
    "module",
    "function",
    "builtin_function_or_method",
    "instance",
    "_Feature"
   ],
   "window_display": false
  }
 },
 "nbformat": 4,
 "nbformat_minor": 2
}
