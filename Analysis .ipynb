{
 "cells": [
  {
   "cell_type": "markdown",
   "metadata": {},
   "source": [
    "# Imports"
   ]
  },
  {
   "cell_type": "code",
   "execution_count": 1,
   "metadata": {
    "ExecuteTime": {
     "end_time": "2019-04-21T09:34:34.655356Z",
     "start_time": "2019-04-21T09:34:19.356591Z"
    }
   },
   "outputs": [],
   "source": [
    "import numpy as np\n",
    "import pandas as pd"
   ]
  },
  {
   "cell_type": "code",
   "execution_count": null,
   "metadata": {},
   "outputs": [],
   "source": []
  },
  {
   "cell_type": "code",
   "execution_count": 2,
   "metadata": {
    "ExecuteTime": {
     "end_time": "2019-04-21T09:34:43.669198Z",
     "start_time": "2019-04-21T09:34:34.658333Z"
    }
   },
   "outputs": [],
   "source": [
    "import matplotlib.pyplot as plt\n",
    "import seaborn as sns"
   ]
  },
  {
   "cell_type": "code",
   "execution_count": 3,
   "metadata": {
    "ExecuteTime": {
     "end_time": "2019-04-21T09:34:43.680072Z",
     "start_time": "2019-04-21T09:34:43.673091Z"
    }
   },
   "outputs": [],
   "source": [
    "pd.options.display.max_columns = 10"
   ]
  },
  {
   "cell_type": "markdown",
   "metadata": {},
   "source": [
    "# Data and EDA"
   ]
  },
  {
   "cell_type": "code",
   "execution_count": 4,
   "metadata": {
    "ExecuteTime": {
     "end_time": "2019-04-21T09:34:44.152474Z",
     "start_time": "2019-04-21T09:34:43.686057Z"
    }
   },
   "outputs": [],
   "source": [
    "data = pd.read_csv('PoemsData.csv')"
   ]
  },
  {
   "cell_type": "code",
   "execution_count": 5,
   "metadata": {
    "ExecuteTime": {
     "end_time": "2019-04-21T09:34:44.244716Z",
     "start_time": "2019-04-21T09:34:44.155378Z"
    }
   },
   "outputs": [
    {
     "data": {
      "text/html": [
       "<div>\n",
       "<style scoped>\n",
       "    .dataframe tbody tr th:only-of-type {\n",
       "        vertical-align: middle;\n",
       "    }\n",
       "\n",
       "    .dataframe tbody tr th {\n",
       "        vertical-align: top;\n",
       "    }\n",
       "\n",
       "    .dataframe thead th {\n",
       "        text-align: right;\n",
       "    }\n",
       "</style>\n",
       "<table border=\"1\" class=\"dataframe\">\n",
       "  <thead>\n",
       "    <tr style=\"text-align: right;\">\n",
       "      <th></th>\n",
       "      <th>activities</th>\n",
       "      <th>art_and_sciences</th>\n",
       "      <th>living</th>\n",
       "      <th>love</th>\n",
       "      <th>mythology_and_folklore</th>\n",
       "      <th>nature</th>\n",
       "      <th>poem</th>\n",
       "      <th>relationships</th>\n",
       "      <th>religion</th>\n",
       "      <th>social_commentaries</th>\n",
       "    </tr>\n",
       "  </thead>\n",
       "  <tbody>\n",
       "    <tr>\n",
       "      <th>0</th>\n",
       "      <td>1.0</td>\n",
       "      <td>0.0</td>\n",
       "      <td>0.0</td>\n",
       "      <td>1.0</td>\n",
       "      <td>0.0</td>\n",
       "      <td>0.0</td>\n",
       "      <td>15 Years of Paris\\r\\nBy Katy Bohinc\\r\\nBy Katy...</td>\n",
       "      <td>0.0</td>\n",
       "      <td>0.0</td>\n",
       "      <td>0.0</td>\n",
       "    </tr>\n",
       "    <tr>\n",
       "      <th>1</th>\n",
       "      <td>0.0</td>\n",
       "      <td>0.0</td>\n",
       "      <td>0.0</td>\n",
       "      <td>1.0</td>\n",
       "      <td>0.0</td>\n",
       "      <td>0.0</td>\n",
       "      <td>[lady in red] \"at 4:30 AM\"\\r\\nBy Ntozake Shang...</td>\n",
       "      <td>0.0</td>\n",
       "      <td>0.0</td>\n",
       "      <td>1.0</td>\n",
       "    </tr>\n",
       "    <tr>\n",
       "      <th>2</th>\n",
       "      <td>0.0</td>\n",
       "      <td>1.0</td>\n",
       "      <td>1.0</td>\n",
       "      <td>1.0</td>\n",
       "      <td>0.0</td>\n",
       "      <td>1.0</td>\n",
       "      <td>geography test\\r\\nBy Saaro Umar\\r\\nBy Saaro Um...</td>\n",
       "      <td>1.0</td>\n",
       "      <td>0.0</td>\n",
       "      <td>1.0</td>\n",
       "    </tr>\n",
       "    <tr>\n",
       "      <th>3</th>\n",
       "      <td>1.0</td>\n",
       "      <td>1.0</td>\n",
       "      <td>0.0</td>\n",
       "      <td>1.0</td>\n",
       "      <td>0.0</td>\n",
       "      <td>1.0</td>\n",
       "      <td>From “Celestial House”\\r\\nBy Victoria Martinez...</td>\n",
       "      <td>1.0</td>\n",
       "      <td>0.0</td>\n",
       "      <td>1.0</td>\n",
       "    </tr>\n",
       "    <tr>\n",
       "      <th>4</th>\n",
       "      <td>0.0</td>\n",
       "      <td>0.0</td>\n",
       "      <td>1.0</td>\n",
       "      <td>1.0</td>\n",
       "      <td>0.0</td>\n",
       "      <td>0.0</td>\n",
       "      <td>Ode to Black Skin\\r\\nBy Ashanti Anderson\\r\\nBy...</td>\n",
       "      <td>0.0</td>\n",
       "      <td>1.0</td>\n",
       "      <td>1.0</td>\n",
       "    </tr>\n",
       "  </tbody>\n",
       "</table>\n",
       "</div>"
      ],
      "text/plain": [
       "   activities  art_and_sciences  living  love  mythology_and_folklore  nature  \\\n",
       "0         1.0               0.0     0.0   1.0                     0.0     0.0   \n",
       "1         0.0               0.0     0.0   1.0                     0.0     0.0   \n",
       "2         0.0               1.0     1.0   1.0                     0.0     1.0   \n",
       "3         1.0               1.0     0.0   1.0                     0.0     1.0   \n",
       "4         0.0               0.0     1.0   1.0                     0.0     0.0   \n",
       "\n",
       "                                                poem  relationships  religion  \\\n",
       "0  15 Years of Paris\\r\\nBy Katy Bohinc\\r\\nBy Katy...            0.0       0.0   \n",
       "1  [lady in red] \"at 4:30 AM\"\\r\\nBy Ntozake Shang...            0.0       0.0   \n",
       "2  geography test\\r\\nBy Saaro Umar\\r\\nBy Saaro Um...            1.0       0.0   \n",
       "3  From “Celestial House”\\r\\nBy Victoria Martinez...            1.0       0.0   \n",
       "4  Ode to Black Skin\\r\\nBy Ashanti Anderson\\r\\nBy...            0.0       1.0   \n",
       "\n",
       "   social_commentaries  \n",
       "0                  0.0  \n",
       "1                  1.0  \n",
       "2                  1.0  \n",
       "3                  1.0  \n",
       "4                  1.0  "
      ]
     },
     "execution_count": 5,
     "metadata": {},
     "output_type": "execute_result"
    }
   ],
   "source": [
    "data.head()"
   ]
  },
  {
   "cell_type": "code",
   "execution_count": 6,
   "metadata": {
    "ExecuteTime": {
     "end_time": "2019-04-21T09:34:44.370041Z",
     "start_time": "2019-04-21T09:34:44.248705Z"
    }
   },
   "outputs": [
    {
     "name": "stdout",
     "output_type": "stream",
     "text": [
      "Dataset Shape (455, 10)\n"
     ]
    }
   ],
   "source": [
    "print('Dataset Shape', data.shape)"
   ]
  },
  {
   "cell_type": "code",
   "execution_count": 7,
   "metadata": {
    "ExecuteTime": {
     "end_time": "2019-04-21T09:34:44.529290Z",
     "start_time": "2019-04-21T09:34:44.372033Z"
    }
   },
   "outputs": [
    {
     "name": "stdout",
     "output_type": "stream",
     "text": [
      "Target Classes:\n",
      " ['activities', 'art_and_sciences', 'living', 'love', 'mythology_and_folklore', 'nature', 'relationships', 'religion', 'social_commentaries']\n"
     ]
    }
   ],
   "source": [
    "y_cols = data.columns.tolist()\n",
    "y_cols.remove('poem')\n",
    "print('Target Classes:\\n', y_cols)"
   ]
  },
  {
   "cell_type": "code",
   "execution_count": 8,
   "metadata": {
    "ExecuteTime": {
     "end_time": "2019-04-21T09:34:44.699464Z",
     "start_time": "2019-04-21T09:34:44.536271Z"
    }
   },
   "outputs": [],
   "source": [
    "def insight(y):\n",
    "    print('There are {} ({:.2f} %) poems classified as {}'.format(data[y].sum(), data[y].sum()/4.55, y))"
   ]
  },
  {
   "cell_type": "code",
   "execution_count": 9,
   "metadata": {
    "ExecuteTime": {
     "end_time": "2019-04-21T09:34:44.917852Z",
     "start_time": "2019-04-21T09:34:44.702424Z"
    }
   },
   "outputs": [
    {
     "name": "stdout",
     "output_type": "stream",
     "text": [
      "Insights:\n",
      "There are 100.0 (21.98 %) poems classified as activities\n",
      "There are 100.0 (21.98 %) poems classified as art_and_sciences\n",
      "There are 100.0 (21.98 %) poems classified as living\n",
      "There are 100.0 (21.98 %) poems classified as love\n",
      "There are 100.0 (21.98 %) poems classified as mythology_and_folklore\n",
      "There are 100.0 (21.98 %) poems classified as nature\n",
      "There are 102.0 (22.42 %) poems classified as relationships\n",
      "There are 100.0 (21.98 %) poems classified as religion\n",
      "There are 100.0 (21.98 %) poems classified as social_commentaries\n"
     ]
    }
   ],
   "source": [
    "print('Insights:')\n",
    "for y in y_cols:\n",
    "    insight(y)"
   ]
  },
  {
   "cell_type": "code",
   "execution_count": 10,
   "metadata": {
    "ExecuteTime": {
     "end_time": "2019-04-21T09:34:45.095875Z",
     "start_time": "2019-04-21T09:34:44.920841Z"
    }
   },
   "outputs": [],
   "source": [
    "lengths = pd.Series(data['poem'].apply(lambda x: len(x.split())))"
   ]
  },
  {
   "cell_type": "code",
   "execution_count": 11,
   "metadata": {
    "ExecuteTime": {
     "end_time": "2019-04-21T09:34:47.161629Z",
     "start_time": "2019-04-21T09:34:45.099866Z"
    }
   },
   "outputs": [
    {
     "data": {
      "image/png": "[encoded data removed]",
      "text/plain": [
       "<Figure size 1296x432 with 1 Axes>"
      ]
     },
     "metadata": {
      "needs_background": "light"
     },
     "output_type": "display_data"
    }
   ],
   "source": [
    "fig = plt.figure(figsize=(18,6))\n",
    "lengths.plot.hist(bins=200)\n",
    "plt.show()"
   ]
  },
  {
   "cell_type": "markdown",
   "metadata": {
    "ExecuteTime": {
     "end_time": "2019-04-16T12:56:38.874950Z",
     "start_time": "2019-04-16T12:56:38.869966Z"
    }
   },
   "source": [
    "# Data Preprocessing"
   ]
  },
  {
   "cell_type": "markdown",
   "metadata": {
    "ExecuteTime": {
     "end_time": "2019-04-16T12:56:54.873402Z",
     "start_time": "2019-04-16T12:56:54.869412Z"
    }
   },
   "source": [
    "## Cleaning"
   ]
  },
  {
   "cell_type": "code",
   "execution_count": 12,
   "metadata": {
    "ExecuteTime": {
     "end_time": "2019-04-21T09:34:56.786571Z",
     "start_time": "2019-04-21T09:34:47.165619Z"
    }
   },
   "outputs": [],
   "source": [
    "import nltk, re\n",
    "from nltk.stem.porter import PorterStemmer\n",
    "from nltk.stem import WordNetLemmatizer\n",
    "\n",
    "remove_punc = lambda x : re.sub(r\"\\W\", ' ', x)\n",
    "\n",
    "remove_num = lambda x : re.sub(r\"\\d\", ' ', x)\n",
    "\n",
    "remove_extra_spaces = lambda x : re.sub(r\"\\s+\", ' ', x)\n",
    "\n",
    "lower_case = lambda x : x.lower()\n",
    "\n",
    "stop_words = set(nltk.corpus.stopwords.words('english'))\n",
    "remove_stopwords = lambda x: ' '.join(word for word in x.split() if word not in stop_words)\n",
    "\n",
    "ps = PorterStemmer()\n",
    "ps_stem = lambda x: ' '.join(ps.stem(word) for word in x.split())\n",
    "\n",
    "wnl = WordNetLemmatizer()\n",
    "wnl_lemmatize = lambda x: ' '.join(wnl.lemmatize(word) for word in x.split())\n",
    "\n",
    "def tag_pos(x):\n",
    "    tag_list =  nltk.pos_tag(nltk.word_tokenize(x))\n",
    "    pos = \"\"\n",
    "    for t in tag_list:\n",
    "        pos += t[0] +'(' + t[1] +')' + ' '\n",
    "    return pos\n",
    "\n",
    "def cleanText(x, rsw, stm, lem, tgps):\n",
    "    x = remove_punc(x)\n",
    "    x = remove_num(x)\n",
    "    x = remove_extra_spaces(x)\n",
    "    x = lower_case(x)\n",
    "    if rsw:\n",
    "        x = remove_stopwords(x)\n",
    "    if stm:\n",
    "        x = ps_stem(x)\n",
    "    if lem:\n",
    "        x = wnl_lemmatize(x)\n",
    "    if tgps:\n",
    "        x = tag_pos(x)\n",
    "    return x"
   ]
  },
  {
   "cell_type": "code",
   "execution_count": 13,
   "metadata": {
    "ExecuteTime": {
     "end_time": "2019-04-21T09:35:02.112032Z",
     "start_time": "2019-04-21T09:34:56.789563Z"
    }
   },
   "outputs": [],
   "source": [
    "data['poem'] = data['poem'].apply(lambda x: cleanText(x, True, False, True, False))"
   ]
  },
  {
   "cell_type": "code",
   "execution_count": null,
   "metadata": {},
   "outputs": [],
   "source": []
  },
  {
   "cell_type": "code",
   "execution_count": null,
   "metadata": {
    "ExecuteTime": {
     "end_time": "2019-04-19T09:30:07.879279Z",
     "start_time": "2019-04-19T09:30:07.858275Z"
    }
   },
   "outputs": [],
   "source": []
  },
  {
   "cell_type": "markdown",
   "metadata": {
    "ExecuteTime": {
     "end_time": "2019-04-16T13:03:43.276461Z",
     "start_time": "2019-04-16T13:03:43.260506Z"
    }
   },
   "source": [
    "## TFIDF Vectorizing"
   ]
  },
  {
   "cell_type": "code",
   "execution_count": 14,
   "metadata": {
    "ExecuteTime": {
     "end_time": "2019-04-21T09:35:02.122004Z",
     "start_time": "2019-04-21T09:35:02.114025Z"
    }
   },
   "outputs": [],
   "source": [
    "from sklearn.feature_extraction.text import TfidfVectorizer"
   ]
  },
  {
   "cell_type": "code",
   "execution_count": 15,
   "metadata": {
    "ExecuteTime": {
     "end_time": "2019-04-21T09:35:03.243182Z",
     "start_time": "2019-04-21T09:35:02.127989Z"
    }
   },
   "outputs": [],
   "source": [
    "vectorizer = TfidfVectorizer()\n",
    "vectorizer.fit(data['poem'])\n",
    "X_Vect = vectorizer.transform(data['poem'])"
   ]
  },
  {
   "cell_type": "markdown",
   "metadata": {},
   "source": [
    "# Machine Learning"
   ]
  },
  {
   "cell_type": "code",
   "execution_count": 16,
   "metadata": {
    "ExecuteTime": {
     "end_time": "2019-04-21T09:35:03.257144Z",
     "start_time": "2019-04-21T09:35:03.245178Z"
    }
   },
   "outputs": [],
   "source": [
    "from sklearn.model_selection import cross_val_score\n",
    "from sklearn.metrics import classification_report, confusion_matrix\n",
    "from sklearn.model_selection import train_test_split"
   ]
  },
  {
   "cell_type": "code",
   "execution_count": 17,
   "metadata": {
    "ExecuteTime": {
     "end_time": "2019-04-21T09:35:03.444992Z",
     "start_time": "2019-04-21T09:35:03.261145Z"
    }
   },
   "outputs": [],
   "source": [
    "Y = data[y_cols]"
   ]
  },
  {
   "cell_type": "code",
   "execution_count": 18,
   "metadata": {
    "ExecuteTime": {
     "end_time": "2019-04-21T09:35:03.599489Z",
     "start_time": "2019-04-21T09:35:03.447016Z"
    }
   },
   "outputs": [],
   "source": [
    "X_train, X_test, Y_train, Y_test = train_test_split(X_Vect, Y, test_size=0.1, random_state=42)"
   ]
  },
  {
   "cell_type": "markdown",
   "metadata": {},
   "source": [
    "## Logistic Regression"
   ]
  },
  {
   "cell_type": "code",
   "execution_count": 19,
   "metadata": {
    "ExecuteTime": {
     "end_time": "2019-04-21T09:35:03.771612Z",
     "start_time": "2019-04-21T09:35:03.602412Z"
    }
   },
   "outputs": [],
   "source": [
    "from sklearn.linear_model import LogisticRegression"
   ]
  },
  {
   "cell_type": "code",
   "execution_count": 20,
   "metadata": {
    "ExecuteTime": {
     "end_time": "2019-04-21T09:35:04.343533Z",
     "start_time": "2019-04-21T09:35:03.775603Z"
    }
   },
   "outputs": [
    {
     "name": "stdout",
     "output_type": "stream",
     "text": [
      "activities\n"
     ]
    },
    {
     "name": "stderr",
     "output_type": "stream",
     "text": [
      "D:\\Users\\Ritvik\\Anaconda3\\envs\\datascience\\lib\\site-packages\\sklearn\\linear_model\\logistic.py:433: FutureWarning: Default solver will be changed to 'lbfgs' in 0.22. Specify a solver to silence this warning.\n",
      "  FutureWarning)\n",
      "D:\\Users\\Ritvik\\Anaconda3\\envs\\datascience\\lib\\site-packages\\sklearn\\metrics\\classification.py:1145: UndefinedMetricWarning: Recall and F-score are ill-defined and being set to 0.0 in labels with no true samples.\n",
      "  'recall', 'true', average, warn_for)\n"
     ]
    },
    {
     "name": "stdout",
     "output_type": "stream",
     "text": [
      "[[38  8]\n",
      " [ 0  0]]\n",
      "              precision    recall  f1-score   support\n",
      "\n",
      "         0.0       1.00      0.83      0.90        46\n",
      "         1.0       0.00      0.00      0.00         0\n",
      "\n",
      "   micro avg       0.83      0.83      0.83        46\n",
      "   macro avg       0.50      0.41      0.45        46\n",
      "weighted avg       1.00      0.83      0.90        46\n",
      "\n",
      "\n",
      "art_and_sciences\n",
      "[[36 10]\n",
      " [ 0  0]]\n",
      "              precision    recall  f1-score   support\n",
      "\n",
      "         0.0       1.00      0.78      0.88        46\n",
      "         1.0       0.00      0.00      0.00         0\n",
      "\n",
      "   micro avg       0.78      0.78      0.78        46\n",
      "   macro avg       0.50      0.39      0.44        46\n",
      "weighted avg       1.00      0.78      0.88        46\n",
      "\n",
      "\n",
      "living\n",
      "[[37  9]\n",
      " [ 0  0]]\n",
      "              precision    recall  f1-score   support\n",
      "\n",
      "         0.0       1.00      0.80      0.89        46\n",
      "         1.0       0.00      0.00      0.00         0\n",
      "\n",
      "   micro avg       0.80      0.80      0.80        46\n",
      "   macro avg       0.50      0.40      0.45        46\n",
      "weighted avg       1.00      0.80      0.89        46\n",
      "\n",
      "\n",
      "love\n",
      "[[33 13]\n",
      " [ 0  0]]\n",
      "              precision    recall  f1-score   support\n",
      "\n",
      "         0.0       1.00      0.72      0.84        46\n",
      "         1.0       0.00      0.00      0.00         0\n",
      "\n",
      "   micro avg       0.72      0.72      0.72        46\n",
      "   macro avg       0.50      0.36      0.42        46\n",
      "weighted avg       1.00      0.72      0.84        46\n",
      "\n",
      "\n",
      "mythology_and_folklore\n",
      "[[34 12]\n",
      " [ 0  0]]\n",
      "              precision    recall  f1-score   support\n",
      "\n",
      "         0.0       1.00      0.74      0.85        46\n",
      "         1.0       0.00      0.00      0.00         0\n",
      "\n",
      "   micro avg       0.74      0.74      0.74        46\n",
      "   macro avg       0.50      0.37      0.42        46\n",
      "weighted avg       1.00      0.74      0.85        46\n",
      "\n",
      "\n",
      "nature\n",
      "[[37  9]\n",
      " [ 0  0]]\n",
      "              precision    recall  f1-score   support\n",
      "\n",
      "         0.0       1.00      0.80      0.89        46\n",
      "         1.0       0.00      0.00      0.00         0\n",
      "\n",
      "   micro avg       0.80      0.80      0.80        46\n",
      "   macro avg       0.50      0.40      0.45        46\n",
      "weighted avg       1.00      0.80      0.89        46\n",
      "\n",
      "\n",
      "relationships\n",
      "[[36 10]\n",
      " [ 0  0]]\n",
      "              precision    recall  f1-score   support\n",
      "\n",
      "         0.0       1.00      0.78      0.88        46\n",
      "         1.0       0.00      0.00      0.00         0\n",
      "\n",
      "   micro avg       0.78      0.78      0.78        46\n",
      "   macro avg       0.50      0.39      0.44        46\n",
      "weighted avg       1.00      0.78      0.88        46\n",
      "\n",
      "\n",
      "religion\n",
      "[[37  9]\n",
      " [ 0  0]]\n",
      "              precision    recall  f1-score   support\n",
      "\n",
      "         0.0       1.00      0.80      0.89        46\n",
      "         1.0       0.00      0.00      0.00         0\n",
      "\n",
      "   micro avg       0.80      0.80      0.80        46\n",
      "   macro avg       0.50      0.40      0.45        46\n",
      "weighted avg       1.00      0.80      0.89        46\n",
      "\n",
      "\n",
      "social_commentaries\n",
      "[[39  7]\n",
      " [ 0  0]]\n",
      "              precision    recall  f1-score   support\n",
      "\n",
      "         0.0       1.00      0.85      0.92        46\n",
      "         1.0       0.00      0.00      0.00         0\n",
      "\n",
      "   micro avg       0.85      0.85      0.85        46\n",
      "   macro avg       0.50      0.42      0.46        46\n",
      "weighted avg       1.00      0.85      0.92        46\n",
      "\n",
      "\n"
     ]
    }
   ],
   "source": [
    "for y in y_cols:\n",
    "    print(y)\n",
    "    model = LogisticRegression()\n",
    "    model.fit(X_train, Y_train[y])\n",
    "    y_pred = model.predict(X_test)\n",
    "    print(confusion_matrix(y_pred, Y_test[y]))\n",
    "    print(classification_report(y_pred, Y_test[y]))\n",
    "    print()"
   ]
  },
  {
   "cell_type": "markdown",
   "metadata": {},
   "source": [
    "## Multinomial Naive Bayes"
   ]
  },
  {
   "cell_type": "code",
   "execution_count": 21,
   "metadata": {
    "ExecuteTime": {
     "end_time": "2019-04-21T09:35:04.389411Z",
     "start_time": "2019-04-21T09:35:04.346525Z"
    }
   },
   "outputs": [],
   "source": [
    "from sklearn.naive_bayes import MultinomialNB"
   ]
  },
  {
   "cell_type": "code",
   "execution_count": 22,
   "metadata": {
    "ExecuteTime": {
     "end_time": "2019-04-21T09:35:04.686775Z",
     "start_time": "2019-04-21T09:35:04.393401Z"
    }
   },
   "outputs": [
    {
     "name": "stdout",
     "output_type": "stream",
     "text": [
      "activities\n",
      "[[38  8]\n",
      " [ 0  0]]\n",
      "              precision    recall  f1-score   support\n",
      "\n",
      "         0.0       1.00      0.83      0.90        46\n",
      "         1.0       0.00      0.00      0.00         0\n",
      "\n",
      "   micro avg       0.83      0.83      0.83        46\n",
      "   macro avg       0.50      0.41      0.45        46\n",
      "weighted avg       1.00      0.83      0.90        46\n",
      "\n",
      "\n",
      "art_and_sciences\n",
      "[[36 10]\n",
      " [ 0  0]]\n",
      "              precision    recall  f1-score   support\n",
      "\n",
      "         0.0       1.00      0.78      0.88        46\n",
      "         1.0       0.00      0.00      0.00         0\n",
      "\n",
      "   micro avg       0.78      0.78      0.78        46\n",
      "   macro avg       0.50      0.39      0.44        46\n",
      "weighted avg       1.00      0.78      0.88        46\n",
      "\n",
      "\n",
      "living\n",
      "[[37  9]\n",
      " [ 0  0]]\n",
      "              precision    recall  f1-score   support\n",
      "\n",
      "         0.0       1.00      0.80      0.89        46\n",
      "         1.0       0.00      0.00      0.00         0\n",
      "\n",
      "   micro avg       0.80      0.80      0.80        46\n",
      "   macro avg       0.50      0.40      0.45        46\n",
      "weighted avg       1.00      0.80      0.89        46\n",
      "\n",
      "\n",
      "love\n",
      "[[33 13]\n",
      " [ 0  0]]\n",
      "              precision    recall  f1-score   support\n",
      "\n",
      "         0.0       1.00      0.72      0.84        46\n",
      "         1.0       0.00      0.00      0.00         0\n",
      "\n",
      "   micro avg       0.72      0.72      0.72        46\n",
      "   macro avg       0.50      0.36      0.42        46\n",
      "weighted avg       1.00      0.72      0.84        46\n",
      "\n",
      "\n",
      "mythology_and_folklore\n",
      "[[34 12]\n",
      " [ 0  0]]\n",
      "              precision    recall  f1-score   support\n",
      "\n",
      "         0.0       1.00      0.74      0.85        46\n",
      "         1.0       0.00      0.00      0.00         0\n",
      "\n",
      "   micro avg       0.74      0.74      0.74        46\n",
      "   macro avg       0.50      0.37      0.42        46\n",
      "weighted avg       1.00      0.74      0.85        46\n",
      "\n",
      "\n",
      "nature\n",
      "[[37  9]\n",
      " [ 0  0]]\n",
      "              precision    recall  f1-score   support\n",
      "\n",
      "         0.0       1.00      0.80      0.89        46\n",
      "         1.0       0.00      0.00      0.00         0\n",
      "\n",
      "   micro avg       0.80      0.80      0.80        46\n",
      "   macro avg       0.50      0.40      0.45        46\n",
      "weighted avg       1.00      0.80      0.89        46\n",
      "\n",
      "\n",
      "relationships\n",
      "[[36 10]\n",
      " [ 0  0]]\n",
      "              precision    recall  f1-score   support\n",
      "\n",
      "         0.0       1.00      0.78      0.88        46\n",
      "         1.0       0.00      0.00      0.00         0\n",
      "\n",
      "   micro avg       0.78      0.78      0.78        46\n",
      "   macro avg       0.50      0.39      0.44        46\n",
      "weighted avg       1.00      0.78      0.88        46\n",
      "\n",
      "\n",
      "religion\n",
      "[[37  9]\n",
      " [ 0  0]]\n",
      "              precision    recall  f1-score   support\n",
      "\n",
      "         0.0       1.00      0.80      0.89        46\n",
      "         1.0       0.00      0.00      0.00         0\n",
      "\n",
      "   micro avg       0.80      0.80      0.80        46\n",
      "   macro avg       0.50      0.40      0.45        46\n",
      "weighted avg       1.00      0.80      0.89        46\n",
      "\n",
      "\n",
      "social_commentaries\n",
      "[[39  7]\n",
      " [ 0  0]]\n",
      "              precision    recall  f1-score   support\n",
      "\n",
      "         0.0       1.00      0.85      0.92        46\n",
      "         1.0       0.00      0.00      0.00         0\n",
      "\n",
      "   micro avg       0.85      0.85      0.85        46\n",
      "   macro avg       0.50      0.42      0.46        46\n",
      "weighted avg       1.00      0.85      0.92        46\n",
      "\n",
      "\n"
     ]
    },
    {
     "name": "stderr",
     "output_type": "stream",
     "text": [
      "D:\\Users\\Ritvik\\Anaconda3\\envs\\datascience\\lib\\site-packages\\sklearn\\metrics\\classification.py:1145: UndefinedMetricWarning: Recall and F-score are ill-defined and being set to 0.0 in labels with no true samples.\n",
      "  'recall', 'true', average, warn_for)\n",
      "D:\\Users\\Ritvik\\Anaconda3\\envs\\datascience\\lib\\site-packages\\sklearn\\metrics\\classification.py:1145: UndefinedMetricWarning: Recall and F-score are ill-defined and being set to 0.0 in labels with no true samples.\n",
      "  'recall', 'true', average, warn_for)\n",
      "D:\\Users\\Ritvik\\Anaconda3\\envs\\datascience\\lib\\site-packages\\sklearn\\metrics\\classification.py:1145: UndefinedMetricWarning: Recall and F-score are ill-defined and being set to 0.0 in labels with no true samples.\n",
      "  'recall', 'true', average, warn_for)\n",
      "D:\\Users\\Ritvik\\Anaconda3\\envs\\datascience\\lib\\site-packages\\sklearn\\metrics\\classification.py:1145: UndefinedMetricWarning: Recall and F-score are ill-defined and being set to 0.0 in labels with no true samples.\n",
      "  'recall', 'true', average, warn_for)\n",
      "D:\\Users\\Ritvik\\Anaconda3\\envs\\datascience\\lib\\site-packages\\sklearn\\metrics\\classification.py:1145: UndefinedMetricWarning: Recall and F-score are ill-defined and being set to 0.0 in labels with no true samples.\n",
      "  'recall', 'true', average, warn_for)\n",
      "D:\\Users\\Ritvik\\Anaconda3\\envs\\datascience\\lib\\site-packages\\sklearn\\metrics\\classification.py:1145: UndefinedMetricWarning: Recall and F-score are ill-defined and being set to 0.0 in labels with no true samples.\n",
      "  'recall', 'true', average, warn_for)\n",
      "D:\\Users\\Ritvik\\Anaconda3\\envs\\datascience\\lib\\site-packages\\sklearn\\metrics\\classification.py:1145: UndefinedMetricWarning: Recall and F-score are ill-defined and being set to 0.0 in labels with no true samples.\n",
      "  'recall', 'true', average, warn_for)\n",
      "D:\\Users\\Ritvik\\Anaconda3\\envs\\datascience\\lib\\site-packages\\sklearn\\metrics\\classification.py:1145: UndefinedMetricWarning: Recall and F-score are ill-defined and being set to 0.0 in labels with no true samples.\n",
      "  'recall', 'true', average, warn_for)\n",
      "D:\\Users\\Ritvik\\Anaconda3\\envs\\datascience\\lib\\site-packages\\sklearn\\metrics\\classification.py:1145: UndefinedMetricWarning: Recall and F-score are ill-defined and being set to 0.0 in labels with no true samples.\n",
      "  'recall', 'true', average, warn_for)\n"
     ]
    }
   ],
   "source": [
    "for y in y_cols:\n",
    "    print(y)\n",
    "    model = MultinomialNB()\n",
    "    model.fit(X_train, Y_train[y])\n",
    "    y_pred = model.predict(X_test)\n",
    "    print(confusion_matrix(y_pred, Y_test[y]))\n",
    "    print(classification_report(y_pred, Y_test[y]))\n",
    "    print()"
   ]
  },
  {
   "cell_type": "markdown",
   "metadata": {},
   "source": [
    "## Random Forest Classifier"
   ]
  },
  {
   "cell_type": "code",
   "execution_count": 23,
   "metadata": {
    "ExecuteTime": {
     "end_time": "2019-04-21T09:35:05.276822Z",
     "start_time": "2019-04-21T09:35:04.699740Z"
    }
   },
   "outputs": [],
   "source": [
    "from sklearn.ensemble import RandomForestClassifier"
   ]
  },
  {
   "cell_type": "code",
   "execution_count": 24,
   "metadata": {
    "ExecuteTime": {
     "end_time": "2019-04-21T09:35:06.176848Z",
     "start_time": "2019-04-21T09:35:05.281808Z"
    }
   },
   "outputs": [
    {
     "name": "stdout",
     "output_type": "stream",
     "text": [
      "activities\n"
     ]
    },
    {
     "name": "stderr",
     "output_type": "stream",
     "text": [
      "D:\\Users\\Ritvik\\Anaconda3\\envs\\datascience\\lib\\site-packages\\sklearn\\ensemble\\forest.py:246: FutureWarning: The default value of n_estimators will change from 10 in version 0.20 to 100 in 0.22.\n",
      "  \"10 in version 0.20 to 100 in 0.22.\", FutureWarning)\n"
     ]
    },
    {
     "name": "stdout",
     "output_type": "stream",
     "text": [
      "[[38  8]\n",
      " [ 0  0]]\n",
      "              precision    recall  f1-score   support\n",
      "\n",
      "         0.0       1.00      0.83      0.90        46\n",
      "         1.0       0.00      0.00      0.00         0\n",
      "\n",
      "   micro avg       0.83      0.83      0.83        46\n",
      "   macro avg       0.50      0.41      0.45        46\n",
      "weighted avg       1.00      0.83      0.90        46\n",
      "\n",
      "\n",
      "art_and_sciences\n",
      "[[35  9]\n",
      " [ 1  1]]\n",
      "              precision    recall  f1-score   support\n",
      "\n",
      "         0.0       0.97      0.80      0.88        44\n",
      "         1.0       0.10      0.50      0.17         2\n",
      "\n",
      "   micro avg       0.78      0.78      0.78        46\n",
      "   macro avg       0.54      0.65      0.52        46\n",
      "weighted avg       0.93      0.78      0.84        46\n",
      "\n",
      "\n",
      "living\n",
      "[[36  8]\n",
      " [ 1  1]]\n",
      "              precision    recall  f1-score   support\n",
      "\n",
      "         0.0       0.97      0.82      0.89        44\n",
      "         1.0       0.11      0.50      0.18         2\n",
      "\n",
      "   micro avg       0.80      0.80      0.80        46\n",
      "   macro avg       0.54      0.66      0.54        46\n",
      "weighted avg       0.94      0.80      0.86        46\n",
      "\n",
      "\n",
      "love\n"
     ]
    },
    {
     "name": "stderr",
     "output_type": "stream",
     "text": [
      "D:\\Users\\Ritvik\\Anaconda3\\envs\\datascience\\lib\\site-packages\\sklearn\\metrics\\classification.py:1145: UndefinedMetricWarning: Recall and F-score are ill-defined and being set to 0.0 in labels with no true samples.\n",
      "  'recall', 'true', average, warn_for)\n",
      "D:\\Users\\Ritvik\\Anaconda3\\envs\\datascience\\lib\\site-packages\\sklearn\\ensemble\\forest.py:246: FutureWarning: The default value of n_estimators will change from 10 in version 0.20 to 100 in 0.22.\n",
      "  \"10 in version 0.20 to 100 in 0.22.\", FutureWarning)\n",
      "D:\\Users\\Ritvik\\Anaconda3\\envs\\datascience\\lib\\site-packages\\sklearn\\ensemble\\forest.py:246: FutureWarning: The default value of n_estimators will change from 10 in version 0.20 to 100 in 0.22.\n",
      "  \"10 in version 0.20 to 100 in 0.22.\", FutureWarning)\n",
      "D:\\Users\\Ritvik\\Anaconda3\\envs\\datascience\\lib\\site-packages\\sklearn\\ensemble\\forest.py:246: FutureWarning: The default value of n_estimators will change from 10 in version 0.20 to 100 in 0.22.\n",
      "  \"10 in version 0.20 to 100 in 0.22.\", FutureWarning)\n"
     ]
    },
    {
     "name": "stdout",
     "output_type": "stream",
     "text": [
      "[[33 12]\n",
      " [ 0  1]]\n",
      "              precision    recall  f1-score   support\n",
      "\n",
      "         0.0       1.00      0.73      0.85        45\n",
      "         1.0       0.08      1.00      0.14         1\n",
      "\n",
      "   micro avg       0.74      0.74      0.74        46\n",
      "   macro avg       0.54      0.87      0.49        46\n",
      "weighted avg       0.98      0.74      0.83        46\n",
      "\n",
      "\n",
      "mythology_and_folklore\n",
      "[[34 11]\n",
      " [ 0  1]]\n",
      "              precision    recall  f1-score   support\n",
      "\n",
      "         0.0       1.00      0.76      0.86        45\n",
      "         1.0       0.08      1.00      0.15         1\n",
      "\n",
      "   micro avg       0.76      0.76      0.76        46\n",
      "   macro avg       0.54      0.88      0.51        46\n",
      "weighted avg       0.98      0.76      0.85        46\n",
      "\n",
      "\n",
      "nature\n",
      "[[37  7]\n",
      " [ 0  2]]\n",
      "              precision    recall  f1-score   support\n",
      "\n",
      "         0.0       1.00      0.84      0.91        44\n",
      "         1.0       0.22      1.00      0.36         2\n",
      "\n",
      "   micro avg       0.85      0.85      0.85        46\n",
      "   macro avg       0.61      0.92      0.64        46\n",
      "weighted avg       0.97      0.85      0.89        46\n",
      "\n",
      "\n",
      "relationships\n",
      "[[36 10]\n",
      " [ 0  0]]\n"
     ]
    },
    {
     "name": "stderr",
     "output_type": "stream",
     "text": [
      "D:\\Users\\Ritvik\\Anaconda3\\envs\\datascience\\lib\\site-packages\\sklearn\\ensemble\\forest.py:246: FutureWarning: The default value of n_estimators will change from 10 in version 0.20 to 100 in 0.22.\n",
      "  \"10 in version 0.20 to 100 in 0.22.\", FutureWarning)\n",
      "D:\\Users\\Ritvik\\Anaconda3\\envs\\datascience\\lib\\site-packages\\sklearn\\ensemble\\forest.py:246: FutureWarning: The default value of n_estimators will change from 10 in version 0.20 to 100 in 0.22.\n",
      "  \"10 in version 0.20 to 100 in 0.22.\", FutureWarning)\n",
      "D:\\Users\\Ritvik\\Anaconda3\\envs\\datascience\\lib\\site-packages\\sklearn\\ensemble\\forest.py:246: FutureWarning: The default value of n_estimators will change from 10 in version 0.20 to 100 in 0.22.\n",
      "  \"10 in version 0.20 to 100 in 0.22.\", FutureWarning)\n",
      "D:\\Users\\Ritvik\\Anaconda3\\envs\\datascience\\lib\\site-packages\\sklearn\\metrics\\classification.py:1145: UndefinedMetricWarning: Recall and F-score are ill-defined and being set to 0.0 in labels with no true samples.\n",
      "  'recall', 'true', average, warn_for)\n"
     ]
    },
    {
     "name": "stdout",
     "output_type": "stream",
     "text": [
      "              precision    recall  f1-score   support\n",
      "\n",
      "         0.0       1.00      0.78      0.88        46\n",
      "         1.0       0.00      0.00      0.00         0\n",
      "\n",
      "   micro avg       0.78      0.78      0.78        46\n",
      "   macro avg       0.50      0.39      0.44        46\n",
      "weighted avg       1.00      0.78      0.88        46\n",
      "\n",
      "\n",
      "religion\n",
      "[[37  9]\n",
      " [ 0  0]]\n",
      "              precision    recall  f1-score   support\n",
      "\n",
      "         0.0       1.00      0.80      0.89        46\n",
      "         1.0       0.00      0.00      0.00         0\n",
      "\n",
      "   micro avg       0.80      0.80      0.80        46\n",
      "   macro avg       0.50      0.40      0.45        46\n",
      "weighted avg       1.00      0.80      0.89        46\n",
      "\n",
      "\n",
      "social_commentaries\n",
      "[[39  7]\n",
      " [ 0  0]]\n",
      "              precision    recall  f1-score   support\n",
      "\n",
      "         0.0       1.00      0.85      0.92        46\n",
      "         1.0       0.00      0.00      0.00         0\n",
      "\n",
      "   micro avg       0.85      0.85      0.85        46\n",
      "   macro avg       0.50      0.42      0.46        46\n",
      "weighted avg       1.00      0.85      0.92        46\n",
      "\n",
      "\n"
     ]
    },
    {
     "name": "stderr",
     "output_type": "stream",
     "text": [
      "D:\\Users\\Ritvik\\Anaconda3\\envs\\datascience\\lib\\site-packages\\sklearn\\ensemble\\forest.py:246: FutureWarning: The default value of n_estimators will change from 10 in version 0.20 to 100 in 0.22.\n",
      "  \"10 in version 0.20 to 100 in 0.22.\", FutureWarning)\n",
      "D:\\Users\\Ritvik\\Anaconda3\\envs\\datascience\\lib\\site-packages\\sklearn\\metrics\\classification.py:1145: UndefinedMetricWarning: Recall and F-score are ill-defined and being set to 0.0 in labels with no true samples.\n",
      "  'recall', 'true', average, warn_for)\n",
      "D:\\Users\\Ritvik\\Anaconda3\\envs\\datascience\\lib\\site-packages\\sklearn\\ensemble\\forest.py:246: FutureWarning: The default value of n_estimators will change from 10 in version 0.20 to 100 in 0.22.\n",
      "  \"10 in version 0.20 to 100 in 0.22.\", FutureWarning)\n",
      "D:\\Users\\Ritvik\\Anaconda3\\envs\\datascience\\lib\\site-packages\\sklearn\\metrics\\classification.py:1145: UndefinedMetricWarning: Recall and F-score are ill-defined and being set to 0.0 in labels with no true samples.\n",
      "  'recall', 'true', average, warn_for)\n"
     ]
    }
   ],
   "source": [
    "for y in y_cols:\n",
    "    print(y)\n",
    "    model = RandomForestClassifier()\n",
    "    model.fit(X_train, Y_train[y])\n",
    "    y_pred = model.predict(X_test)\n",
    "    print(confusion_matrix(y_pred, Y_test[y]))\n",
    "    print(classification_report(y_pred, Y_test[y]))\n",
    "    print()"
   ]
  },
  {
   "cell_type": "markdown",
   "metadata": {},
   "source": [
    "## SGD Classifier"
   ]
  },
  {
   "cell_type": "code",
   "execution_count": 25,
   "metadata": {
    "ExecuteTime": {
     "end_time": "2019-04-21T09:35:06.183827Z",
     "start_time": "2019-04-21T09:35:06.179838Z"
    }
   },
   "outputs": [],
   "source": [
    "from sklearn.linear_model import SGDClassifier"
   ]
  },
  {
   "cell_type": "code",
   "execution_count": 26,
   "metadata": {
    "ExecuteTime": {
     "end_time": "2019-04-21T09:35:06.591522Z",
     "start_time": "2019-04-21T09:35:06.188818Z"
    }
   },
   "outputs": [
    {
     "name": "stdout",
     "output_type": "stream",
     "text": [
      "activities\n",
      "[[35  6]\n",
      " [ 3  2]]\n",
      "              precision    recall  f1-score   support\n",
      "\n",
      "         0.0       0.92      0.85      0.89        41\n",
      "         1.0       0.25      0.40      0.31         5\n",
      "\n",
      "   micro avg       0.80      0.80      0.80        46\n",
      "   macro avg       0.59      0.63      0.60        46\n",
      "weighted avg       0.85      0.80      0.82        46\n",
      "\n",
      "\n",
      "art_and_sciences\n",
      "[[36 10]\n",
      " [ 0  0]]\n",
      "              precision    recall  f1-score   support\n",
      "\n",
      "         0.0       1.00      0.78      0.88        46\n",
      "         1.0       0.00      0.00      0.00         0\n",
      "\n",
      "   micro avg       0.78      0.78      0.78        46\n",
      "   macro avg       0.50      0.39      0.44        46\n",
      "weighted avg       1.00      0.78      0.88        46\n",
      "\n",
      "\n",
      "living\n",
      "[[36  8]\n",
      " [ 1  1]]\n",
      "              precision    recall  f1-score   support\n",
      "\n",
      "         0.0       0.97      0.82      0.89        44\n",
      "         1.0       0.11      0.50      0.18         2\n",
      "\n",
      "   micro avg       0.80      0.80      0.80        46\n",
      "   macro avg       0.54      0.66      0.54        46\n",
      "weighted avg       0.94      0.80      0.86        46\n",
      "\n",
      "\n",
      "love\n",
      "[[33 13]\n",
      " [ 0  0]]\n",
      "              precision    recall  f1-score   support\n",
      "\n",
      "         0.0       1.00      0.72      0.84        46\n",
      "         1.0       0.00      0.00      0.00         0\n",
      "\n",
      "   micro avg       0.72      0.72      0.72        46\n",
      "   macro avg       0.50      0.36      0.42        46\n",
      "weighted avg       1.00      0.72      0.84        46\n",
      "\n",
      "\n",
      "mythology_and_folklore\n",
      "[[34 11]\n",
      " [ 0  1]]\n",
      "              precision    recall  f1-score   support\n",
      "\n",
      "         0.0       1.00      0.76      0.86        45\n",
      "         1.0       0.08      1.00      0.15         1\n",
      "\n",
      "   micro avg       0.76      0.76      0.76        46\n",
      "   macro avg       0.54      0.88      0.51        46\n",
      "weighted avg       0.98      0.76      0.85        46\n",
      "\n",
      "\n",
      "nature\n",
      "[[35  7]\n",
      " [ 2  2]]\n",
      "              precision    recall  f1-score   support\n",
      "\n",
      "         0.0       0.95      0.83      0.89        42\n",
      "         1.0       0.22      0.50      0.31         4\n",
      "\n",
      "   micro avg       0.80      0.80      0.80        46\n",
      "   macro avg       0.58      0.67      0.60        46\n",
      "weighted avg       0.88      0.80      0.84        46\n",
      "\n",
      "\n",
      "relationships\n",
      "[[36  8]\n",
      " [ 0  2]]\n",
      "              precision    recall  f1-score   support\n",
      "\n",
      "         0.0       1.00      0.82      0.90        44\n",
      "         1.0       0.20      1.00      0.33         2\n",
      "\n",
      "   micro avg       0.83      0.83      0.83        46\n",
      "   macro avg       0.60      0.91      0.62        46\n",
      "weighted avg       0.97      0.83      0.88        46\n",
      "\n",
      "\n",
      "religion\n",
      "[[36  8]\n",
      " [ 1  1]]\n",
      "              precision    recall  f1-score   support\n",
      "\n",
      "         0.0       0.97      0.82      0.89        44\n",
      "         1.0       0.11      0.50      0.18         2\n",
      "\n",
      "   micro avg       0.80      0.80      0.80        46\n",
      "   macro avg       0.54      0.66      0.54        46\n",
      "weighted avg       0.94      0.80      0.86        46\n",
      "\n",
      "\n",
      "social_commentaries\n",
      "[[39  6]\n",
      " [ 0  1]]\n",
      "              precision    recall  f1-score   support\n",
      "\n",
      "         0.0       1.00      0.87      0.93        45\n",
      "         1.0       0.14      1.00      0.25         1\n",
      "\n",
      "   micro avg       0.87      0.87      0.87        46\n",
      "   macro avg       0.57      0.93      0.59        46\n",
      "weighted avg       0.98      0.87      0.91        46\n",
      "\n",
      "\n"
     ]
    },
    {
     "name": "stderr",
     "output_type": "stream",
     "text": [
      "D:\\Users\\Ritvik\\Anaconda3\\envs\\datascience\\lib\\site-packages\\sklearn\\linear_model\\stochastic_gradient.py:166: FutureWarning: max_iter and tol parameters have been added in SGDClassifier in 0.19. If both are left unset, they default to max_iter=5 and tol=None. If tol is not None, max_iter defaults to max_iter=1000. From 0.21, default max_iter will be 1000, and default tol will be 1e-3.\n",
      "  FutureWarning)\n"
     ]
    }
   ],
   "source": [
    "for y in y_cols:\n",
    "    print(y)\n",
    "    model = SGDClassifier()\n",
    "    model.fit(X_train, Y_train[y])\n",
    "    y_pred = model.predict(X_test)\n",
    "    print(confusion_matrix(y_pred, Y_test[y]))\n",
    "    print(classification_report(y_pred, Y_test[y]))\n",
    "    print()"
   ]
  },
  {
   "cell_type": "markdown",
   "metadata": {
    "ExecuteTime": {
     "end_time": "2019-04-18T05:56:40.875176Z",
     "start_time": "2019-04-18T05:56:40.870427Z"
    },
    "collapsed": true
   },
   "source": [
    "# Model Training and Predictions"
   ]
  },
  {
   "cell_type": "markdown",
   "metadata": {},
   "source": [
    "Test"
   ]
  },
  {
   "cell_type": "code",
   "execution_count": 27,
   "metadata": {
    "ExecuteTime": {
     "end_time": "2019-04-21T09:35:06.606484Z",
     "start_time": "2019-04-21T09:35:06.597507Z"
    }
   },
   "outputs": [],
   "source": [
    "p = \"\"\"Held in the Arms of St. Francis & the Virgin\n",
    "BY JASMINE GIBSON\n",
    "It tastes like all my night\n",
    "when I'm at the bottom of the borough\n",
    "sheets burn around me\n",
    "through the night\n",
    "Consecrate me\n",
    "Consecrate me\n",
    "Conserve me lover\n",
    "In the sills of your love\n",
    "in the cells of your palms\n",
    "from the womb to cell\n",
    "break me from the belly of ship\n",
    "let me crash upon you\n",
    "Consecrate me my lover in your rectum\n",
    "in a rehabilitation center where athletes seek the best care\n",
    "I break into you\n",
    "Consecrate me I want to love you in Syracuse woods\n",
    "in Sonnino love me against lamb’s wool\n",
    "I am my sister's wife keeper\n",
    "Consecrate me\n",
    "in the discretion of sisters\n",
    "nuns loving\n",
    "and hating jobs that ask\n",
    "with fangs barred\n",
    "\n",
    "Jasmine Gibson, \"Held Within St.Francis & The Virgin.\" Copyright © 2019 by Jasmine Gibson. Used by permission of the author for PoetryNow.\"\"\""
   ]
  },
  {
   "cell_type": "markdown",
   "metadata": {},
   "source": [
    "From the above models sgdclassifier is the best model"
   ]
  },
  {
   "cell_type": "code",
   "execution_count": 28,
   "metadata": {
    "ExecuteTime": {
     "end_time": "2019-04-21T09:35:06.821907Z",
     "start_time": "2019-04-21T09:35:06.609474Z"
    }
   },
   "outputs": [
    {
     "data": {
      "text/plain": [
       "SGDClassifier(alpha=0.0001, average=False, class_weight=None,\n",
       "       early_stopping=False, epsilon=0.1, eta0=0.0, fit_intercept=True,\n",
       "       l1_ratio=0.15, learning_rate='optimal', loss='hinge', max_iter=None,\n",
       "       n_iter=None, n_iter_no_change=5, n_jobs=None, penalty='l2',\n",
       "       power_t=0.5, random_state=None, shuffle=True, tol=None,\n",
       "       validation_fraction=0.1, verbose=0, warm_start=False)"
      ]
     },
     "execution_count": 28,
     "metadata": {},
     "output_type": "execute_result"
    }
   ],
   "source": [
    "clf_activities = SGDClassifier()\n",
    "clf_activities.fit(X_Vect, data['activities'])\n",
    "\n",
    "clf_art_and_sciences = SGDClassifier()\n",
    "clf_art_and_sciences.fit(X_Vect, data['art_and_sciences'])\n",
    "\n",
    "clf_living = SGDClassifier()\n",
    "clf_living.fit(X_Vect, data['living'])\n",
    "\n",
    "clf_love = SGDClassifier()\n",
    "clf_love.fit(X_Vect, data['love'])\n",
    "\n",
    "clf_mythology_and_folklore = SGDClassifier()\n",
    "clf_mythology_and_folklore.fit(X_Vect, data['mythology_and_folklore'])\n",
    "\n",
    "clf_nature = SGDClassifier()\n",
    "clf_nature.fit(X_Vect, data['nature'])\n",
    "\n",
    "clf_relationships = SGDClassifier()\n",
    "clf_relationships.fit(X_Vect, data['relationships'])\n",
    "\n",
    "clf_religion = SGDClassifier()\n",
    "clf_religion.fit(X_Vect, data['religion'])\n",
    "\n",
    "clf_social_commentaries = SGDClassifier()\n",
    "clf_social_commentaries.fit(X_Vect, data['social_commentaries'])"
   ]
  },
  {
   "cell_type": "code",
   "execution_count": 29,
   "metadata": {
    "ExecuteTime": {
     "end_time": "2019-04-21T09:35:07.053633Z",
     "start_time": "2019-04-21T09:35:06.826893Z"
    }
   },
   "outputs": [],
   "source": [
    "def classify(poem):\n",
    "    poem = cleanText(poem, True, False, True, False)\n",
    "    vect = vectorizer.transform([poem])\n",
    "    poem_genre = []\n",
    "    if clf_activities.predict(vect)[0]:\n",
    "        poem_genre.append('Activity')\n",
    "    if clf_art_and_sciences.predict(vect)[0]:\n",
    "        poem_genre.append('Art and Science')\n",
    "    if clf_living.predict(vect)[0]:\n",
    "        poem_genre.append('Living')\n",
    "    if clf_love.predict(vect)[0]:\n",
    "        poem_genre.append('Love')\n",
    "    if clf_mythology_and_folklore.predict(vect)[0]:\n",
    "        poem_genre.append('Mythology and Folklore')\n",
    "    if clf_nature.predict(vect)[0]:\n",
    "        poem_genre.append('Nature')\n",
    "    if clf_relationships.predict(vect)[0]:\n",
    "        poem_genre.append('Relationships')\n",
    "    if clf_religion.predict(vect)[0]:\n",
    "        poem_genre.append('Religion')\n",
    "    if clf_social_commentaries.predict(vect)[0]:\n",
    "        poem_genre.append('Social Commentaries')\n",
    "        \n",
    "    if len(poem_genre) == 0:\n",
    "        poem_genre.append('Miscellaneous')\n",
    "    return poem_genre"
   ]
  },
  {
   "cell_type": "code",
   "execution_count": 30,
   "metadata": {
    "ExecuteTime": {
     "end_time": "2019-04-21T09:35:07.261206Z",
     "start_time": "2019-04-21T09:35:07.056579Z"
    }
   },
   "outputs": [
    {
     "data": {
      "text/plain": [
       "['Social Commentaries']"
      ]
     },
     "execution_count": 30,
     "metadata": {},
     "output_type": "execute_result"
    }
   ],
   "source": [
    "classify(p)"
   ]
  },
  {
   "cell_type": "markdown",
   "metadata": {},
   "source": [
    "# Deeplearning"
   ]
  },
  {
   "cell_type": "markdown",
   "metadata": {},
   "source": [
    "## Imports"
   ]
  },
  {
   "cell_type": "code",
   "execution_count": 31,
   "metadata": {
    "ExecuteTime": {
     "end_time": "2019-04-21T09:35:45.614602Z",
     "start_time": "2019-04-21T09:35:07.264198Z"
    }
   },
   "outputs": [
    {
     "name": "stderr",
     "output_type": "stream",
     "text": [
      "Using TensorFlow backend.\n"
     ]
    }
   ],
   "source": [
    "from keras.preprocessing.text import Tokenizer\n",
    "from keras.preprocessing.sequence import pad_sequences\n",
    "from keras.models import Sequential\n",
    "from keras.layers import Dense, Flatten, LSTM, Conv1D, MaxPooling1D, Dropout, Activation\n",
    "from keras.layers.embeddings import Embedding\n",
    "from keras.callbacks import EarlyStopping"
   ]
  },
  {
   "cell_type": "markdown",
   "metadata": {},
   "source": [
    "## Text Preprocessing\n",
    "Initialize Tokenizer <br>\n",
    "Fit on Texts <br>\n",
    "Tokenize texts to sequences <br>\n",
    "Pad the sequences"
   ]
  },
  {
   "cell_type": "code",
   "execution_count": 32,
   "metadata": {
    "ExecuteTime": {
     "end_time": "2019-04-21T09:35:46.144805Z",
     "start_time": "2019-04-21T09:35:45.617626Z"
    }
   },
   "outputs": [],
   "source": [
    "vocabulary_size = 20000\n",
    "pad_length = 1000\n",
    "tokenizer = Tokenizer(num_words= vocabulary_size)\n",
    "tokenizer.fit_on_texts(data['poem'])\n",
    "sequences = tokenizer.texts_to_sequences(data['poem'])\n",
    "padded_sequences = pad_sequences(sequences, maxlen=pad_length)"
   ]
  },
  {
   "cell_type": "markdown",
   "metadata": {},
   "source": [
    "## Building the LSTM"
   ]
  },
  {
   "cell_type": "code",
   "execution_count": 33,
   "metadata": {
    "ExecuteTime": {
     "end_time": "2019-04-21T09:35:46.152783Z",
     "start_time": "2019-04-21T09:35:46.146834Z"
    }
   },
   "outputs": [],
   "source": [
    "def build_lstm(vocabulary_size, pad_length):\n",
    "    model = Sequential()\n",
    "    model.add(Embedding(vocabulary_size, 1024, input_length=pad_length))\n",
    "    model.add(LSTM(1024, dropout=0.2, recurrent_dropout=0.2))\n",
    "    model.add(Dense(9, activation='sigmoid'))\n",
    "    model.compile(loss='categorical_crossentropy', optimizer='adam', metrics=['accuracy'])\n",
    "    model.summary()\n",
    "    return model"
   ]
  },
  {
   "cell_type": "markdown",
   "metadata": {},
   "source": [
    "## Training the Model"
   ]
  },
  {
   "cell_type": "code",
   "execution_count": 34,
   "metadata": {
    "ExecuteTime": {
     "end_time": "2019-04-21T09:35:51.027630Z",
     "start_time": "2019-04-21T09:35:46.159767Z"
    }
   },
   "outputs": [
    {
     "name": "stdout",
     "output_type": "stream",
     "text": [
      "WARNING:tensorflow:From D:\\Users\\Ritvik\\Anaconda3\\envs\\datascience\\lib\\site-packages\\tensorflow\\python\\framework\\op_def_library.py:263: colocate_with (from tensorflow.python.framework.ops) is deprecated and will be removed in a future version.\n",
      "Instructions for updating:\n",
      "Colocations handled automatically by placer.\n",
      "WARNING:tensorflow:From D:\\Users\\Ritvik\\Anaconda3\\envs\\datascience\\lib\\site-packages\\keras\\backend\\tensorflow_backend.py:3445: calling dropout (from tensorflow.python.ops.nn_ops) with keep_prob is deprecated and will be removed in a future version.\n",
      "Instructions for updating:\n",
      "Please use `rate` instead of `keep_prob`. Rate should be set to `rate = 1 - keep_prob`.\n",
      "_________________________________________________________________\n",
      "Layer (type)                 Output Shape              Param #   \n",
      "=================================================================\n",
      "embedding_1 (Embedding)      (None, 1000, 1024)        20480000  \n",
      "_________________________________________________________________\n",
      "lstm_1 (LSTM)                (None, 1024)              8392704   \n",
      "_________________________________________________________________\n",
      "dense_1 (Dense)              (None, 9)                 9225      \n",
      "=================================================================\n",
      "Total params: 28,881,929\n",
      "Trainable params: 28,881,929\n",
      "Non-trainable params: 0\n",
      "_________________________________________________________________\n"
     ]
    }
   ],
   "source": [
    "model = build_lstm(vocabulary_size, pad_length)"
   ]
  },
  {
   "cell_type": "code",
   "execution_count": 35,
   "metadata": {
    "ExecuteTime": {
     "end_time": "2019-04-21T12:23:10.933629Z",
     "start_time": "2019-04-21T09:35:51.031614Z"
    }
   },
   "outputs": [
    {
     "name": "stdout",
     "output_type": "stream",
     "text": [
      "WARNING:tensorflow:From D:\\Users\\Ritvik\\Anaconda3\\envs\\datascience\\lib\\site-packages\\tensorflow\\python\\ops\\math_ops.py:3066: to_int32 (from tensorflow.python.ops.math_ops) is deprecated and will be removed in a future version.\n",
      "Instructions for updating:\n",
      "Use tf.cast instead.\n",
      "Train on 318 samples, validate on 137 samples\n",
      "Epoch 1/25\n",
      "318/318 [==============================] - 445s 1s/step - loss: 5.1008 - acc: 0.1415 - val_loss: 3.1645 - val_acc: 0.0000e+00\n",
      "Epoch 2/25\n",
      "318/318 [==============================] - 384s 1s/step - loss: 4.9899 - acc: 0.1855 - val_loss: 3.2366 - val_acc: 0.0000e+00\n",
      "Epoch 3/25\n",
      "318/318 [==============================] - 382s 1s/step - loss: 4.9883 - acc: 0.2044 - val_loss: 3.3309 - val_acc: 0.0000e+00\n",
      "Epoch 4/25\n",
      "318/318 [==============================] - 389s 1s/step - loss: 4.7422 - acc: 0.2547 - val_loss: 3.3368 - val_acc: 0.0000e+00\n",
      "Epoch 5/25\n",
      "318/318 [==============================] - 386s 1s/step - loss: 4.3686 - acc: 0.3428 - val_loss: 3.6491 - val_acc: 0.0073\n",
      "Epoch 6/25\n",
      "318/318 [==============================] - 387s 1s/step - loss: 4.1852 - acc: 0.3050 - val_loss: 3.9923 - val_acc: 0.0219\n",
      "Epoch 7/25\n",
      "318/318 [==============================] - 390s 1s/step - loss: 4.0369 - acc: 0.3836 - val_loss: 3.8891 - val_acc: 0.0219\n",
      "Epoch 8/25\n",
      "318/318 [==============================] - 391s 1s/step - loss: 3.7426 - acc: 0.3805 - val_loss: 4.7263 - val_acc: 0.0438\n",
      "Epoch 9/25\n",
      "318/318 [==============================] - 387s 1s/step - loss: 3.6226 - acc: 0.3836 - val_loss: 4.4855 - val_acc: 0.0365\n",
      "Epoch 10/25\n",
      "318/318 [==============================] - 479s 2s/step - loss: 3.4860 - acc: 0.4465 - val_loss: 4.5919 - val_acc: 0.0438\n",
      "Epoch 11/25\n",
      "318/318 [==============================] - 470s 1s/step - loss: 3.3603 - acc: 0.4151 - val_loss: 5.0310 - val_acc: 0.0365\n",
      "Epoch 12/25\n",
      "318/318 [==============================] - 468s 1s/step - loss: 3.2886 - acc: 0.4119 - val_loss: 5.4196 - val_acc: 0.0511\n",
      "Epoch 13/25\n",
      "318/318 [==============================] - 462s 1s/step - loss: 3.2484 - acc: 0.4497 - val_loss: 5.5189 - val_acc: 0.0219\n",
      "Epoch 14/25\n",
      "318/318 [==============================] - 467s 1s/step - loss: 3.2188 - acc: 0.4654 - val_loss: 5.6350 - val_acc: 0.0730\n",
      "Epoch 15/25\n",
      "318/318 [==============================] - 401s 1s/step - loss: 3.2497 - acc: 0.4434 - val_loss: 5.9442 - val_acc: 0.0000e+00\n",
      "Epoch 16/25\n",
      "318/318 [==============================] - 374s 1s/step - loss: 3.1875 - acc: 0.4277 - val_loss: 5.5801 - val_acc: 0.0584\n",
      "Epoch 17/25\n",
      "318/318 [==============================] - 375s 1s/step - loss: 3.1625 - acc: 0.4151 - val_loss: 6.4401 - val_acc: 0.0365\n",
      "Epoch 18/25\n",
      "318/318 [==============================] - 377s 1s/step - loss: 3.1313 - acc: 0.4811 - val_loss: 6.2937 - val_acc: 0.1168\n",
      "Epoch 19/25\n",
      "318/318 [==============================] - 370s 1s/step - loss: 3.1472 - acc: 0.4843 - val_loss: 6.5426 - val_acc: 0.0438\n",
      "Epoch 20/25\n",
      "318/318 [==============================] - 378s 1s/step - loss: 3.1649 - acc: 0.4308 - val_loss: 5.9817 - val_acc: 0.0657\n",
      "Epoch 21/25\n",
      "318/318 [==============================] - 376s 1s/step - loss: 3.1504 - acc: 0.4560 - val_loss: 6.4216 - val_acc: 0.1095\n",
      "Epoch 22/25\n",
      "318/318 [==============================] - 374s 1s/step - loss: 3.0756 - acc: 0.4937 - val_loss: 6.6964 - val_acc: 0.0730\n",
      "Epoch 23/25\n",
      "318/318 [==============================] - 366s 1s/step - loss: 3.2228 - acc: 0.3962 - val_loss: 6.5176 - val_acc: 0.0438\n",
      "Epoch 24/25\n",
      "318/318 [==============================] - 377s 1s/step - loss: 3.1160 - acc: 0.4151 - val_loss: 6.8508 - val_acc: 0.0730\n",
      "Epoch 25/25\n",
      "318/318 [==============================] - 375s 1s/step - loss: 3.0492 - acc: 0.4371 - val_loss: 7.3790 - val_acc: 0.0803\n"
     ]
    },
    {
     "data": {
      "text/plain": [
       "<keras.callbacks.History at 0x1c0a6150400>"
      ]
     },
     "execution_count": 35,
     "metadata": {},
     "output_type": "execute_result"
    }
   ],
   "source": [
    "model.fit(padded_sequences, data[y_cols], validation_split=0.3, epochs=25)#, \n",
    "#           callbacks=[EarlyStopping(monitor='val_loss', mode='min', verbose=1)])"
   ]
  },
  {
   "cell_type": "code",
   "execution_count": 43,
   "metadata": {
    "ExecuteTime": {
     "end_time": "2019-04-21T12:28:22.120965Z",
     "start_time": "2019-04-21T12:28:22.111991Z"
    }
   },
   "outputs": [],
   "source": [
    "def classify_poem(poem):\n",
    "    probabs =  model.predict(pad_sequences(tokenizer.texts_to_sequences([poem]), maxlen=pad_length))\n",
    "    classes = []\n",
    "    for i in range(len(y_cols)):\n",
    "        if probabs[0][i] >= 0.5:\n",
    "            classes.append(y_cols[i])\n",
    "    if len(classes) == 0:\n",
    "        classes.append('miscellaneous')\n",
    "    return classes"
   ]
  },
  {
   "cell_type": "code",
   "execution_count": 44,
   "metadata": {
    "ExecuteTime": {
     "end_time": "2019-04-21T12:28:27.673860Z",
     "start_time": "2019-04-21T12:28:23.671565Z"
    }
   },
   "outputs": [],
   "source": [
    "pred_y = classify_poem(p)"
   ]
  },
  {
   "cell_type": "code",
   "execution_count": 45,
   "metadata": {
    "ExecuteTime": {
     "end_time": "2019-04-21T12:28:29.044196Z",
     "start_time": "2019-04-21T12:28:29.037214Z"
    }
   },
   "outputs": [
    {
     "data": {
      "text/plain": [
       "['activities',\n",
       " 'living',\n",
       " 'love',\n",
       " 'mythology_and_folklore',\n",
       " 'relationships',\n",
       " 'social_commentaries']"
      ]
     },
     "execution_count": 45,
     "metadata": {},
     "output_type": "execute_result"
    }
   ],
   "source": [
    "pred_y"
   ]
  },
  {
   "cell_type": "code",
   "execution_count": null,
   "metadata": {},
   "outputs": [],
   "source": []
  },
  {
   "cell_type": "markdown",
   "metadata": {},
   "source": [
    "## Pickling"
   ]
  },
  {
   "cell_type": "code",
   "execution_count": 39,
   "metadata": {
    "ExecuteTime": {
     "end_time": "2019-04-21T12:23:55.282548Z",
     "start_time": "2019-04-21T12:23:55.214461Z"
    }
   },
   "outputs": [],
   "source": [
    "import pickle"
   ]
  },
  {
   "cell_type": "code",
   "execution_count": 40,
   "metadata": {
    "ExecuteTime": {
     "end_time": "2019-04-21T12:24:12.920729Z",
     "start_time": "2019-04-21T12:23:55.500129Z"
    }
   },
   "outputs": [],
   "source": [
    "model.save('lstm.h5')"
   ]
  },
  {
   "cell_type": "code",
   "execution_count": 41,
   "metadata": {
    "ExecuteTime": {
     "end_time": "2019-04-21T12:24:18.927315Z",
     "start_time": "2019-04-21T12:24:13.021196Z"
    }
   },
   "outputs": [],
   "source": [
    "pickle.dump(tokenizer, open('Tokenizer.pickle', 'wb'))"
   ]
  }
 ],
 "metadata": {
  "kernelspec": {
   "display_name": "Python 3",
   "language": "python",
   "name": "python3"
  },
  "language_info": {
   "codemirror_mode": {
    "name": "ipython",
    "version": 3
   },
   "file_extension": ".py",
   "mimetype": "text/x-python",
   "name": "python",
   "nbconvert_exporter": "python",
   "pygments_lexer": "ipython3",
   "version": "3.7.3"
  },
  "toc": {
   "base_numbering": 1,
   "nav_menu": {},
   "number_sections": true,
   "sideBar": true,
   "skip_h1_title": false,
   "title_cell": "Table of Contents",
   "title_sidebar": "Contents",
   "toc_cell": false,
   "toc_position": {},
   "toc_section_display": true,
   "toc_window_display": false
  },
  "varInspector": {
   "cols": {
    "lenName": 16,
    "lenType": 16,
    "lenVar": 40
   },
   "kernels_config": {
    "python": {
     "delete_cmd_postfix": "",
     "delete_cmd_prefix": "del ",
     "library": "var_list.py",
     "varRefreshCmd": "print(var_dic_list())"
    },
    "r": {
     "delete_cmd_postfix": ") ",
     "delete_cmd_prefix": "rm(",
     "library": "var_list.r",
     "varRefreshCmd": "cat(var_dic_list()) "
    }
   },
   "types_to_exclude": [
    "module",
    "function",
    "builtin_function_or_method",
    "instance",
    "_Feature"
   ],
   "window_display": false
  }
 },
 "nbformat": 4,
 "nbformat_minor": 2
}
